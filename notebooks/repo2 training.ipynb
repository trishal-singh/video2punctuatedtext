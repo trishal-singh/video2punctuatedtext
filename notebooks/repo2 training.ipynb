{
  "nbformat": 4,
  "nbformat_minor": 0,
  "metadata": {
    "colab": {
      "name": "repo2.ipynb",
      "provenance": [],
      "collapsed_sections": []
    },
    "kernelspec": {
      "name": "python3",
      "display_name": "Python 3"
    },
    "language_info": {
      "name": "python"
    },
    "accelerator": "GPU"
  },
  "cells": [
    {
      "cell_type": "code",
      "metadata": {
        "colab": {
          "base_uri": "https://localhost:8080/"
        },
        "id": "zKgqWAejain7",
        "outputId": "1c5de327-0e50-4478-e6c8-e37abe6d1a0b"
      },
      "source": [
        "from google.colab import drive\n",
        "drive.mount('/content/drive')"
      ],
      "execution_count": null,
      "outputs": [
        {
          "output_type": "stream",
          "text": [
            "Mounted at /content/drive\n"
          ],
          "name": "stdout"
        }
      ]
    },
    {
      "cell_type": "code",
      "metadata": {
        "colab": {
          "base_uri": "https://localhost:8080/"
        },
        "id": "A119S2lwal-D",
        "outputId": "4b0b41e5-76a9-4b06-8dc3-558cdf3c53b4"
      },
      "source": [
        "!python drive/MyDrive/neural-punctuator/src/main.py"
      ],
      "execution_count": 4,
      "outputs": [
        {
          "output_type": "stream",
          "text": [
            "2021-06-15 07:17:51.595020: I tensorflow/stream_executor/platform/default/dso_loader.cc:53] Successfully opened dynamic library libcudart.so.11.0\n",
            "Downloading: 100% 570/570 [00:00<00:00, 656kB/s]\n",
            "Downloading: 100% 440M/440M [00:07<00:00, 59.5MB/s]\n",
            "Some weights of the model checkpoint at bert-base-uncased were not used when initializing BertModel: ['cls.seq_relationship.bias', 'cls.predictions.bias', 'cls.predictions.transform.LayerNorm.bias', 'cls.seq_relationship.weight', 'cls.predictions.decoder.weight', 'cls.predictions.transform.dense.bias', 'cls.predictions.transform.LayerNorm.weight', 'cls.predictions.transform.dense.weight']\n",
            "- This IS expected if you are initializing BertModel from the checkpoint of a model trained on another task or with another architecture (e.g. initializing a BertForSequenceClassification model from a BertForPreTraining model).\n",
            "- This IS NOT expected if you are initializing BertModel from the checkpoint of a model that you expect to be exactly identical (initializing a BertForSequenceClassification model from a BertForSequenceClassification model).\n",
            "2021-06-15 07:18:21,352 INFO      Epoch #0\n",
            "100% 1273/1273 [10:44<00:00,  1.98it/s, loss=0.153, grads=0.75]\n",
            "100% 9/9 [00:01<00:00,  6.18it/s]\n",
            "              precision    recall  f1-score   support\n",
            "\n",
            "       empty      0.988     0.962     0.975     14523\n",
            "      period      0.746     0.816     0.780       860\n",
            "    question      0.609     0.746     0.671        71\n",
            "       comma      0.590     0.737     0.656      1172\n",
            "\n",
            "    accuracy                          0.938     16626\n",
            "   macro avg      0.733     0.815     0.770     16626\n",
            "weighted avg      0.946     0.938     0.941     16626\n",
            "\n",
            "2021-06-15 07:29:07,044 INFO      Macro precision is: 0.7334427470629383\n",
            "2021-06-15 07:29:07,048 INFO      Macro recall is 0.8154704440010682\n",
            "2021-06-15 07:29:07,051 INFO      Macro f-score is 0.7702429033274771\n",
            "2021-06-15 07:29:07,074 INFO      AUC is: 0.9555972248532667\n",
            "2021-06-15 07:29:44,321 INFO      Epoch #1\n",
            "100% 1273/1273 [10:43<00:00,  1.98it/s, loss=0.0777, grads=0.452]\n",
            "100% 9/9 [00:01<00:00,  6.09it/s]\n",
            "              precision    recall  f1-score   support\n",
            "\n",
            "       empty      0.991     0.959     0.974     14523\n",
            "      period      0.739     0.848     0.789       860\n",
            "    question      0.567     0.775     0.655        71\n",
            "       comma      0.591     0.750     0.661      1172\n",
            "\n",
            "    accuracy                          0.937     16626\n",
            "   macro avg      0.722     0.833     0.770     16626\n",
            "weighted avg      0.948     0.937     0.941     16626\n",
            "\n",
            "2021-06-15 07:40:29,555 INFO      Macro precision is: 0.721818093736496\n",
            "2021-06-15 07:40:29,559 INFO      Macro recall is 0.8327349178716688\n",
            "2021-06-15 07:40:29,564 INFO      Macro f-score is 0.7699042044385521\n",
            "2021-06-15 07:40:29,589 INFO      AUC is: 0.9653958636140428\n",
            "2021-06-15 07:41:07,658 INFO      Epoch #2\n",
            "100% 1273/1273 [10:44<00:00,  1.98it/s, loss=0.0557, grads=0.6]\n",
            "100% 9/9 [00:01<00:00,  6.09it/s]\n",
            "              precision    recall  f1-score   support\n",
            "\n",
            "       empty      0.989     0.964     0.976     14523\n",
            "      period      0.748     0.852     0.797       860\n",
            "    question      0.625     0.704     0.662        71\n",
            "       comma      0.607     0.735     0.665      1172\n",
            "\n",
            "    accuracy                          0.941     16626\n",
            "   macro avg      0.742     0.814     0.775     16626\n",
            "weighted avg      0.948     0.941     0.944     16626\n",
            "\n",
            "2021-06-15 07:51:53,433 INFO      Macro precision is: 0.7423858832138857\n",
            "2021-06-15 07:51:53,438 INFO      Macro recall is 0.8138879941731683\n",
            "2021-06-15 07:51:53,441 INFO      Macro f-score is 0.7751283142993325\n",
            "2021-06-15 07:51:53,463 INFO      AUC is: 0.964129615549016\n",
            "2021-06-15 07:51:59,146 INFO      Epoch #3\n",
            "100% 1273/1273 [10:44<00:00,  1.97it/s, loss=0.0637, grads=0.55]\n",
            "100% 9/9 [00:01<00:00,  6.14it/s]\n",
            "              precision    recall  f1-score   support\n",
            "\n",
            "       empty      0.989     0.965     0.977     14523\n",
            "      period      0.780     0.816     0.798       860\n",
            "    question      0.671     0.690     0.681        71\n",
            "       comma      0.595     0.756     0.666      1172\n",
            "\n",
            "    accuracy                          0.941     16626\n",
            "   macro avg      0.759     0.807     0.780     16626\n",
            "weighted avg      0.949     0.941     0.944     16626\n",
            "\n",
            "2021-06-15 08:02:45,616 INFO      Macro precision is: 0.7587475866669593\n",
            "2021-06-15 08:02:45,620 INFO      Macro recall is 0.8067501186181762\n",
            "2021-06-15 08:02:45,623 INFO      Macro f-score is 0.7801652803076093\n",
            "2021-06-15 08:02:45,644 INFO      AUC is: 0.9598750350646283\n",
            "2021-06-15 08:02:51,471 INFO      Epoch #4\n",
            "100% 1273/1273 [10:45<00:00,  1.97it/s, loss=0.047, grads=0.523]\n",
            "100% 9/9 [00:01<00:00,  6.09it/s]\n",
            "              precision    recall  f1-score   support\n",
            "\n",
            "       empty      0.989     0.964     0.977     14523\n",
            "      period      0.773     0.850     0.810       860\n",
            "    question      0.708     0.718     0.713        71\n",
            "       comma      0.604     0.746     0.668      1172\n",
            "\n",
            "    accuracy                          0.942     16626\n",
            "   macro avg      0.769     0.820     0.792     16626\n",
            "weighted avg      0.949     0.942     0.945     16626\n",
            "\n",
            "2021-06-15 08:13:38,126 INFO      Macro precision is: 0.768617803880207\n",
            "2021-06-15 08:13:38,130 INFO      Macro recall is 0.819611235512304\n",
            "2021-06-15 08:13:38,134 INFO      Macro f-score is 0.791758509786481\n",
            "2021-06-15 08:13:38,155 INFO      AUC is: 0.9598734717451664\n",
            "2021-06-15 08:13:43,946 INFO      Epoch #5\n",
            "100% 1273/1273 [10:44<00:00,  1.98it/s, loss=0.0442, grads=0.512]\n",
            "100% 9/9 [00:01<00:00,  6.13it/s]\n",
            "              precision    recall  f1-score   support\n",
            "\n",
            "       empty      0.989     0.965     0.977     14523\n",
            "      period      0.795     0.801     0.798       860\n",
            "    question      0.707     0.746     0.726        71\n",
            "       comma      0.596     0.771     0.672      1172\n",
            "\n",
            "    accuracy                          0.942     16626\n",
            "   macro avg      0.772     0.821     0.793     16626\n",
            "weighted avg      0.950     0.942     0.945     16626\n",
            "\n",
            "2021-06-15 08:24:29,711 INFO      Macro precision is: 0.7716185638156974\n",
            "2021-06-15 08:24:29,714 INFO      Macro recall is 0.8209812167078093\n",
            "2021-06-15 08:24:29,718 INFO      Macro f-score is 0.7933093815188974\n",
            "2021-06-15 08:24:29,738 INFO      AUC is: 0.9609253715697591\n",
            "2021-06-15 08:24:35,440 INFO      Epoch #6\n",
            "100% 1273/1273 [10:44<00:00,  1.97it/s, loss=0.0432, grads=0.848]\n",
            "100% 9/9 [00:01<00:00,  6.18it/s]\n",
            "              precision    recall  f1-score   support\n",
            "\n",
            "       empty      0.989     0.966     0.977     14523\n",
            "      period      0.773     0.816     0.794       860\n",
            "    question      0.712     0.732     0.722        71\n",
            "       comma      0.602     0.752     0.669      1172\n",
            "\n",
            "    accuracy                          0.942     16626\n",
            "   macro avg      0.769     0.817     0.791     16626\n",
            "weighted avg      0.949     0.942     0.945     16626\n",
            "\n",
            "2021-06-15 08:35:21,568 INFO      Macro precision is: 0.7691257310039676\n",
            "2021-06-15 08:35:21,572 INFO      Macro recall is 0.8165051571122489\n",
            "2021-06-15 08:35:21,576 INFO      Macro f-score is 0.7905356431904544\n",
            "2021-06-15 08:35:21,596 INFO      AUC is: 0.9598353792408347\n",
            "2021-06-15 08:35:27,011 INFO      Epoch #7\n",
            "100% 1273/1273 [10:43<00:00,  1.98it/s, loss=0.0489, grads=0.899]\n",
            "100% 9/9 [00:01<00:00,  6.16it/s]\n",
            "              precision    recall  f1-score   support\n",
            "\n",
            "       empty      0.987     0.969     0.978     14523\n",
            "      period      0.785     0.827     0.805       860\n",
            "    question      0.714     0.704     0.709        71\n",
            "       comma      0.616     0.736     0.671      1172\n",
            "\n",
            "    accuracy                          0.944     16626\n",
            "   macro avg      0.776     0.809     0.791     16626\n",
            "weighted avg      0.950     0.944     0.946     16626\n",
            "\n",
            "2021-06-15 08:46:12,286 INFO      Macro precision is: 0.7756025100890208\n",
            "2021-06-15 08:46:12,289 INFO      Macro recall is 0.8090142255574224\n",
            "2021-06-15 08:46:12,293 INFO      Macro f-score is 0.7908015851136037\n",
            "2021-06-15 08:46:12,313 INFO      AUC is: 0.9569383929988414\n",
            "2021-06-15 08:46:18,152 INFO      Epoch #8\n",
            "100% 1273/1273 [10:44<00:00,  1.98it/s, loss=0.0526, grads=1.01]\n",
            "100% 9/9 [00:01<00:00,  6.19it/s]\n",
            "              precision    recall  f1-score   support\n",
            "\n",
            "       empty      0.988     0.965     0.977     14523\n",
            "      period      0.790     0.806     0.798       860\n",
            "    question      0.712     0.732     0.722        71\n",
            "       comma      0.594     0.755     0.665      1172\n",
            "\n",
            "    accuracy                          0.941     16626\n",
            "   macro avg      0.771     0.815     0.791     16626\n",
            "weighted avg      0.949     0.941     0.944     16626\n",
            "\n",
            "2021-06-15 08:57:03,669 INFO      Macro precision is: 0.771295096707041\n",
            "2021-06-15 08:57:03,673 INFO      Macro recall is 0.8146904781406192\n",
            "2021-06-15 08:57:03,676 INFO      Macro f-score is 0.7905115003598215\n",
            "2021-06-15 08:57:03,696 INFO      AUC is: 0.9597073503228558\n",
            "2021-06-15 08:57:09,205 INFO      Epoch #9\n",
            "100% 1273/1273 [10:43<00:00,  1.98it/s, loss=0.0216, grads=0.531]\n",
            "100% 9/9 [00:01<00:00,  6.10it/s]\n",
            "              precision    recall  f1-score   support\n",
            "\n",
            "       empty      0.988     0.966     0.977     14523\n",
            "      period      0.758     0.833     0.794       860\n",
            "    question      0.693     0.732     0.712        71\n",
            "       comma      0.613     0.731     0.667      1172\n",
            "\n",
            "    accuracy                          0.942     16626\n",
            "   macro avg      0.763     0.816     0.788     16626\n",
            "weighted avg      0.948     0.942     0.945     16626\n",
            "\n",
            "2021-06-15 09:07:54,318 INFO      Macro precision is: 0.7631627814503478\n",
            "2021-06-15 09:07:54,322 INFO      Macro recall is 0.8156620395199197\n",
            "2021-06-15 09:07:54,325 INFO      Macro f-score is 0.7875188769798431\n",
            "2021-06-15 09:07:54,345 INFO      AUC is: 0.9555179530866251\n",
            "2021-06-15 09:08:00,950 INFO      Epoch #10\n",
            "100% 1273/1273 [10:44<00:00,  1.98it/s, loss=0.0244, grads=0.756]\n",
            "100% 9/9 [00:01<00:00,  6.13it/s]\n",
            "              precision    recall  f1-score   support\n",
            "\n",
            "       empty      0.987     0.971     0.979     14523\n",
            "      period      0.763     0.810     0.786       860\n",
            "    question      0.746     0.746     0.746        71\n",
            "       comma      0.626     0.723     0.671      1172\n",
            "\n",
            "    accuracy                          0.944     16626\n",
            "   macro avg      0.780     0.813     0.795     16626\n",
            "weighted avg      0.949     0.944     0.946     16626\n",
            "\n",
            "2021-06-15 09:18:46,952 INFO      Macro precision is: 0.780444829488598\n",
            "2021-06-15 09:18:46,955 INFO      Macro recall is 0.8125940772665613\n",
            "2021-06-15 09:18:46,959 INFO      Macro f-score is 0.7954546906631806\n",
            "2021-06-15 09:18:46,981 INFO      AUC is: 0.9513668050241432\n",
            "2021-06-15 09:18:52,707 INFO      Epoch #11\n",
            "100% 1273/1273 [10:44<00:00,  1.97it/s, loss=0.0235, grads=0.587]\n",
            "100% 9/9 [00:01<00:00,  6.14it/s]\n",
            "              precision    recall  f1-score   support\n",
            "\n",
            "       empty      0.986     0.970     0.978     14523\n",
            "      period      0.738     0.826     0.779       860\n",
            "    question      0.722     0.732     0.727        71\n",
            "       comma      0.626     0.696     0.659      1172\n",
            "\n",
            "    accuracy                          0.943     16626\n",
            "   macro avg      0.768     0.806     0.786     16626\n",
            "weighted avg      0.947     0.943     0.944     16626\n",
            "\n",
            "2021-06-15 09:29:39,052 INFO      Macro precision is: 0.7680967537710551\n",
            "2021-06-15 09:29:39,056 INFO      Macro recall is 0.8061533219159562\n",
            "2021-06-15 09:29:39,059 INFO      Macro f-score is 0.786017646534598\n",
            "2021-06-15 09:29:39,083 INFO      AUC is: 0.9528078894324302\n"
          ],
          "name": "stdout"
        }
      ]
    },
    {
      "cell_type": "code",
      "metadata": {
        "colab": {
          "base_uri": "https://localhost:8080/"
        },
        "id": "M06BjpWYbZI7",
        "outputId": "ebdf8ffe-cd52-4134-eb56-ade72be36241"
      },
      "source": [
        "!pip install dotmap"
      ],
      "execution_count": 1,
      "outputs": [
        {
          "output_type": "stream",
          "text": [
            "Collecting dotmap\n",
            "  Downloading https://files.pythonhosted.org/packages/17/6f/c94adbb0e6d418ededbf1082a3067f178fb012573b960d446e5655e6fbe1/dotmap-1.3.23-py3-none-any.whl\n",
            "Installing collected packages: dotmap\n",
            "Successfully installed dotmap-1.3.23\n"
          ],
          "name": "stdout"
        }
      ]
    },
    {
      "cell_type": "code",
      "metadata": {
        "colab": {
          "base_uri": "https://localhost:8080/"
        },
        "id": "m99cbJmObhwR",
        "outputId": "b8ff0def-131e-4ee2-d090-1aaf65c8e389"
      },
      "source": [
        "!pip install transformers"
      ],
      "execution_count": 2,
      "outputs": [
        {
          "output_type": "stream",
          "text": [
            "Collecting transformers\n",
            "\u001b[?25l  Downloading https://files.pythonhosted.org/packages/d5/43/cfe4ee779bbd6a678ac6a97c5a5cdeb03c35f9eaebbb9720b036680f9a2d/transformers-4.6.1-py3-none-any.whl (2.2MB)\n",
            "\u001b[K     |████████████████████████████████| 2.3MB 9.1MB/s \n",
            "\u001b[?25hCollecting huggingface-hub==0.0.8\n",
            "  Downloading https://files.pythonhosted.org/packages/a1/88/7b1e45720ecf59c6c6737ff332f41c955963090a18e72acbcbeac6b25e86/huggingface_hub-0.0.8-py3-none-any.whl\n",
            "Collecting tokenizers<0.11,>=0.10.1\n",
            "\u001b[?25l  Downloading https://files.pythonhosted.org/packages/d4/e2/df3543e8ffdab68f5acc73f613de9c2b155ac47f162e725dcac87c521c11/tokenizers-0.10.3-cp37-cp37m-manylinux_2_5_x86_64.manylinux1_x86_64.manylinux_2_12_x86_64.manylinux2010_x86_64.whl (3.3MB)\n",
            "\u001b[K     |████████████████████████████████| 3.3MB 50.0MB/s \n",
            "\u001b[?25hRequirement already satisfied: packaging in /usr/local/lib/python3.7/dist-packages (from transformers) (20.9)\n",
            "Requirement already satisfied: regex!=2019.12.17 in /usr/local/lib/python3.7/dist-packages (from transformers) (2019.12.20)\n",
            "Requirement already satisfied: numpy>=1.17 in /usr/local/lib/python3.7/dist-packages (from transformers) (1.19.5)\n",
            "Requirement already satisfied: requests in /usr/local/lib/python3.7/dist-packages (from transformers) (2.23.0)\n",
            "Collecting sacremoses\n",
            "\u001b[?25l  Downloading https://files.pythonhosted.org/packages/75/ee/67241dc87f266093c533a2d4d3d69438e57d7a90abb216fa076e7d475d4a/sacremoses-0.0.45-py3-none-any.whl (895kB)\n",
            "\u001b[K     |████████████████████████████████| 901kB 51.2MB/s \n",
            "\u001b[?25hRequirement already satisfied: importlib-metadata; python_version < \"3.8\" in /usr/local/lib/python3.7/dist-packages (from transformers) (4.5.0)\n",
            "Requirement already satisfied: tqdm>=4.27 in /usr/local/lib/python3.7/dist-packages (from transformers) (4.41.1)\n",
            "Requirement already satisfied: filelock in /usr/local/lib/python3.7/dist-packages (from transformers) (3.0.12)\n",
            "Requirement already satisfied: pyparsing>=2.0.2 in /usr/local/lib/python3.7/dist-packages (from packaging->transformers) (2.4.7)\n",
            "Requirement already satisfied: idna<3,>=2.5 in /usr/local/lib/python3.7/dist-packages (from requests->transformers) (2.10)\n",
            "Requirement already satisfied: urllib3!=1.25.0,!=1.25.1,<1.26,>=1.21.1 in /usr/local/lib/python3.7/dist-packages (from requests->transformers) (1.24.3)\n",
            "Requirement already satisfied: certifi>=2017.4.17 in /usr/local/lib/python3.7/dist-packages (from requests->transformers) (2021.5.30)\n",
            "Requirement already satisfied: chardet<4,>=3.0.2 in /usr/local/lib/python3.7/dist-packages (from requests->transformers) (3.0.4)\n",
            "Requirement already satisfied: joblib in /usr/local/lib/python3.7/dist-packages (from sacremoses->transformers) (1.0.1)\n",
            "Requirement already satisfied: six in /usr/local/lib/python3.7/dist-packages (from sacremoses->transformers) (1.15.0)\n",
            "Requirement already satisfied: click in /usr/local/lib/python3.7/dist-packages (from sacremoses->transformers) (7.1.2)\n",
            "Requirement already satisfied: typing-extensions>=3.6.4; python_version < \"3.8\" in /usr/local/lib/python3.7/dist-packages (from importlib-metadata; python_version < \"3.8\"->transformers) (3.7.4.3)\n",
            "Requirement already satisfied: zipp>=0.5 in /usr/local/lib/python3.7/dist-packages (from importlib-metadata; python_version < \"3.8\"->transformers) (3.4.1)\n",
            "Installing collected packages: huggingface-hub, tokenizers, sacremoses, transformers\n",
            "Successfully installed huggingface-hub-0.0.8 sacremoses-0.0.45 tokenizers-0.10.3 transformers-4.6.1\n"
          ],
          "name": "stdout"
        }
      ]
    },
    {
      "cell_type": "code",
      "metadata": {
        "colab": {
          "base_uri": "https://localhost:8080/"
        },
        "id": "_SNT6IHdcmrr",
        "outputId": "5c715f0e-cab2-4448-eeb8-43f8f2a560f9"
      },
      "source": [
        "!pip install -U PyYAML"
      ],
      "execution_count": 3,
      "outputs": [
        {
          "output_type": "stream",
          "text": [
            "Collecting PyYAML\n",
            "\u001b[?25l  Downloading https://files.pythonhosted.org/packages/7a/a5/393c087efdc78091afa2af9f1378762f9821c9c1d7a22c5753fb5ac5f97a/PyYAML-5.4.1-cp37-cp37m-manylinux1_x86_64.whl (636kB)\n",
            "\r\u001b[K     |▌                               | 10kB 27.1MB/s eta 0:00:01\r\u001b[K     |█                               | 20kB 21.8MB/s eta 0:00:01\r\u001b[K     |█▌                              | 30kB 16.4MB/s eta 0:00:01\r\u001b[K     |██                              | 40kB 14.3MB/s eta 0:00:01\r\u001b[K     |██▋                             | 51kB 8.5MB/s eta 0:00:01\r\u001b[K     |███                             | 61kB 8.4MB/s eta 0:00:01\r\u001b[K     |███▋                            | 71kB 9.5MB/s eta 0:00:01\r\u001b[K     |████▏                           | 81kB 9.8MB/s eta 0:00:01\r\u001b[K     |████▋                           | 92kB 9.9MB/s eta 0:00:01\r\u001b[K     |█████▏                          | 102kB 8.5MB/s eta 0:00:01\r\u001b[K     |█████▋                          | 112kB 8.5MB/s eta 0:00:01\r\u001b[K     |██████▏                         | 122kB 8.5MB/s eta 0:00:01\r\u001b[K     |██████▊                         | 133kB 8.5MB/s eta 0:00:01\r\u001b[K     |███████▏                        | 143kB 8.5MB/s eta 0:00:01\r\u001b[K     |███████▊                        | 153kB 8.5MB/s eta 0:00:01\r\u001b[K     |████████▎                       | 163kB 8.5MB/s eta 0:00:01\r\u001b[K     |████████▊                       | 174kB 8.5MB/s eta 0:00:01\r\u001b[K     |█████████▎                      | 184kB 8.5MB/s eta 0:00:01\r\u001b[K     |█████████▉                      | 194kB 8.5MB/s eta 0:00:01\r\u001b[K     |██████████▎                     | 204kB 8.5MB/s eta 0:00:01\r\u001b[K     |██████████▉                     | 215kB 8.5MB/s eta 0:00:01\r\u001b[K     |███████████▎                    | 225kB 8.5MB/s eta 0:00:01\r\u001b[K     |███████████▉                    | 235kB 8.5MB/s eta 0:00:01\r\u001b[K     |████████████▍                   | 245kB 8.5MB/s eta 0:00:01\r\u001b[K     |████████████▉                   | 256kB 8.5MB/s eta 0:00:01\r\u001b[K     |█████████████▍                  | 266kB 8.5MB/s eta 0:00:01\r\u001b[K     |██████████████                  | 276kB 8.5MB/s eta 0:00:01\r\u001b[K     |██████████████▍                 | 286kB 8.5MB/s eta 0:00:01\r\u001b[K     |███████████████                 | 296kB 8.5MB/s eta 0:00:01\r\u001b[K     |███████████████▍                | 307kB 8.5MB/s eta 0:00:01\r\u001b[K     |████████████████                | 317kB 8.5MB/s eta 0:00:01\r\u001b[K     |████████████████▌               | 327kB 8.5MB/s eta 0:00:01\r\u001b[K     |█████████████████               | 337kB 8.5MB/s eta 0:00:01\r\u001b[K     |█████████████████▌              | 348kB 8.5MB/s eta 0:00:01\r\u001b[K     |██████████████████              | 358kB 8.5MB/s eta 0:00:01\r\u001b[K     |██████████████████▌             | 368kB 8.5MB/s eta 0:00:01\r\u001b[K     |███████████████████             | 378kB 8.5MB/s eta 0:00:01\r\u001b[K     |███████████████████▋            | 389kB 8.5MB/s eta 0:00:01\r\u001b[K     |████████████████████            | 399kB 8.5MB/s eta 0:00:01\r\u001b[K     |████████████████████▋           | 409kB 8.5MB/s eta 0:00:01\r\u001b[K     |█████████████████████           | 419kB 8.5MB/s eta 0:00:01\r\u001b[K     |█████████████████████▋          | 430kB 8.5MB/s eta 0:00:01\r\u001b[K     |██████████████████████▏         | 440kB 8.5MB/s eta 0:00:01\r\u001b[K     |██████████████████████▋         | 450kB 8.5MB/s eta 0:00:01\r\u001b[K     |███████████████████████▏        | 460kB 8.5MB/s eta 0:00:01\r\u001b[K     |███████████████████████▊        | 471kB 8.5MB/s eta 0:00:01\r\u001b[K     |████████████████████████▏       | 481kB 8.5MB/s eta 0:00:01\r\u001b[K     |████████████████████████▊       | 491kB 8.5MB/s eta 0:00:01\r\u001b[K     |█████████████████████████▏      | 501kB 8.5MB/s eta 0:00:01\r\u001b[K     |█████████████████████████▊      | 512kB 8.5MB/s eta 0:00:01\r\u001b[K     |██████████████████████████▎     | 522kB 8.5MB/s eta 0:00:01\r\u001b[K     |██████████████████████████▊     | 532kB 8.5MB/s eta 0:00:01\r\u001b[K     |███████████████████████████▎    | 542kB 8.5MB/s eta 0:00:01\r\u001b[K     |███████████████████████████▉    | 552kB 8.5MB/s eta 0:00:01\r\u001b[K     |████████████████████████████▎   | 563kB 8.5MB/s eta 0:00:01\r\u001b[K     |████████████████████████████▉   | 573kB 8.5MB/s eta 0:00:01\r\u001b[K     |█████████████████████████████▍  | 583kB 8.5MB/s eta 0:00:01\r\u001b[K     |█████████████████████████████▉  | 593kB 8.5MB/s eta 0:00:01\r\u001b[K     |██████████████████████████████▍ | 604kB 8.5MB/s eta 0:00:01\r\u001b[K     |██████████████████████████████▉ | 614kB 8.5MB/s eta 0:00:01\r\u001b[K     |███████████████████████████████▍| 624kB 8.5MB/s eta 0:00:01\r\u001b[K     |████████████████████████████████| 634kB 8.5MB/s eta 0:00:01\r\u001b[K     |████████████████████████████████| 645kB 8.5MB/s \n",
            "\u001b[?25hInstalling collected packages: PyYAML\n",
            "  Found existing installation: PyYAML 3.13\n",
            "    Uninstalling PyYAML-3.13:\n",
            "      Successfully uninstalled PyYAML-3.13\n",
            "Successfully installed PyYAML-5.4.1\n"
          ],
          "name": "stdout"
        }
      ]
    },
    {
      "cell_type": "code",
      "metadata": {
        "id": "rqsI05xOcwAx"
      },
      "source": [
        ""
      ],
      "execution_count": null,
      "outputs": []
    }
  ]
}