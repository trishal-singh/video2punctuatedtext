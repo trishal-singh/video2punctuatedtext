{
  "nbformat": 4,
  "nbformat_minor": 0,
  "metadata": {
    "accelerator": "GPU",
    "colab": {
      "name": "repo1.ipynb",
      "provenance": [],
      "collapsed_sections": []
    },
    "kernelspec": {
      "display_name": "Python 3",
      "name": "python3"
    },
    "language_info": {
      "name": "python"
    }
  },
  "cells": [
    {
      "cell_type": "code",
      "metadata": {
        "colab": {
          "base_uri": "https://localhost:8080/",
          "height": 955
        },
        "id": "e029eDrYAC_E",
        "outputId": "03ce3321-5063-4c1b-8392-000f51147942"
      },
      "source": [
        "!pip install wandb\n",
        "import wandb\n",
        "wandb.login()"
      ],
      "execution_count": null,
      "outputs": [
        {
          "output_type": "stream",
          "text": [
            "Collecting wandb\n",
            "\u001b[?25l  Downloading https://files.pythonhosted.org/packages/e0/b4/9d92953d8cddc8450c859be12e3dbdd4c7754fb8def94c28b3b351c6ee4e/wandb-0.10.32-py2.py3-none-any.whl (1.8MB)\n",
            "\r\u001b[K     |▏                               | 10kB 18.5MB/s eta 0:00:01\r\u001b[K     |▍                               | 20kB 23.6MB/s eta 0:00:01\r\u001b[K     |▌                               | 30kB 28.3MB/s eta 0:00:01\r\u001b[K     |▊                               | 40kB 31.8MB/s eta 0:00:01\r\u001b[K     |█                               | 51kB 33.8MB/s eta 0:00:01\r\u001b[K     |█                               | 61kB 35.1MB/s eta 0:00:01\r\u001b[K     |█▎                              | 71kB 35.4MB/s eta 0:00:01\r\u001b[K     |█▍                              | 81kB 35.1MB/s eta 0:00:01\r\u001b[K     |█▋                              | 92kB 36.1MB/s eta 0:00:01\r\u001b[K     |█▉                              | 102kB 37.5MB/s eta 0:00:01\r\u001b[K     |██                              | 112kB 37.5MB/s eta 0:00:01\r\u001b[K     |██▏                             | 122kB 37.5MB/s eta 0:00:01\r\u001b[K     |██▍                             | 133kB 37.5MB/s eta 0:00:01\r\u001b[K     |██▌                             | 143kB 37.5MB/s eta 0:00:01\r\u001b[K     |██▊                             | 153kB 37.5MB/s eta 0:00:01\r\u001b[K     |██▉                             | 163kB 37.5MB/s eta 0:00:01\r\u001b[K     |███                             | 174kB 37.5MB/s eta 0:00:01\r\u001b[K     |███▎                            | 184kB 37.5MB/s eta 0:00:01\r\u001b[K     |███▍                            | 194kB 37.5MB/s eta 0:00:01\r\u001b[K     |███▋                            | 204kB 37.5MB/s eta 0:00:01\r\u001b[K     |███▊                            | 215kB 37.5MB/s eta 0:00:01\r\u001b[K     |████                            | 225kB 37.5MB/s eta 0:00:01\r\u001b[K     |████▏                           | 235kB 37.5MB/s eta 0:00:01\r\u001b[K     |████▎                           | 245kB 37.5MB/s eta 0:00:01\r\u001b[K     |████▌                           | 256kB 37.5MB/s eta 0:00:01\r\u001b[K     |████▊                           | 266kB 37.5MB/s eta 0:00:01\r\u001b[K     |████▉                           | 276kB 37.5MB/s eta 0:00:01\r\u001b[K     |█████                           | 286kB 37.5MB/s eta 0:00:01\r\u001b[K     |█████▏                          | 296kB 37.5MB/s eta 0:00:01\r\u001b[K     |█████▍                          | 307kB 37.5MB/s eta 0:00:01\r\u001b[K     |█████▋                          | 317kB 37.5MB/s eta 0:00:01\r\u001b[K     |█████▊                          | 327kB 37.5MB/s eta 0:00:01\r\u001b[K     |██████                          | 337kB 37.5MB/s eta 0:00:01\r\u001b[K     |██████                          | 348kB 37.5MB/s eta 0:00:01\r\u001b[K     |██████▎                         | 358kB 37.5MB/s eta 0:00:01\r\u001b[K     |██████▌                         | 368kB 37.5MB/s eta 0:00:01\r\u001b[K     |██████▋                         | 378kB 37.5MB/s eta 0:00:01\r\u001b[K     |██████▉                         | 389kB 37.5MB/s eta 0:00:01\r\u001b[K     |███████                         | 399kB 37.5MB/s eta 0:00:01\r\u001b[K     |███████▏                        | 409kB 37.5MB/s eta 0:00:01\r\u001b[K     |███████▍                        | 419kB 37.5MB/s eta 0:00:01\r\u001b[K     |███████▌                        | 430kB 37.5MB/s eta 0:00:01\r\u001b[K     |███████▊                        | 440kB 37.5MB/s eta 0:00:01\r\u001b[K     |████████                        | 450kB 37.5MB/s eta 0:00:01\r\u001b[K     |████████                        | 460kB 37.5MB/s eta 0:00:01\r\u001b[K     |████████▎                       | 471kB 37.5MB/s eta 0:00:01\r\u001b[K     |████████▍                       | 481kB 37.5MB/s eta 0:00:01\r\u001b[K     |████████▋                       | 491kB 37.5MB/s eta 0:00:01\r\u001b[K     |████████▉                       | 501kB 37.5MB/s eta 0:00:01\r\u001b[K     |█████████                       | 512kB 37.5MB/s eta 0:00:01\r\u001b[K     |█████████▏                      | 522kB 37.5MB/s eta 0:00:01\r\u001b[K     |█████████▍                      | 532kB 37.5MB/s eta 0:00:01\r\u001b[K     |█████████▌                      | 542kB 37.5MB/s eta 0:00:01\r\u001b[K     |█████████▊                      | 552kB 37.5MB/s eta 0:00:01\r\u001b[K     |█████████▉                      | 563kB 37.5MB/s eta 0:00:01\r\u001b[K     |██████████                      | 573kB 37.5MB/s eta 0:00:01\r\u001b[K     |██████████▎                     | 583kB 37.5MB/s eta 0:00:01\r\u001b[K     |██████████▍                     | 593kB 37.5MB/s eta 0:00:01\r\u001b[K     |██████████▋                     | 604kB 37.5MB/s eta 0:00:01\r\u001b[K     |██████████▉                     | 614kB 37.5MB/s eta 0:00:01\r\u001b[K     |███████████                     | 624kB 37.5MB/s eta 0:00:01\r\u001b[K     |███████████▏                    | 634kB 37.5MB/s eta 0:00:01\r\u001b[K     |███████████▎                    | 645kB 37.5MB/s eta 0:00:01\r\u001b[K     |███████████▌                    | 655kB 37.5MB/s eta 0:00:01\r\u001b[K     |███████████▊                    | 665kB 37.5MB/s eta 0:00:01\r\u001b[K     |███████████▉                    | 675kB 37.5MB/s eta 0:00:01\r\u001b[K     |████████████                    | 686kB 37.5MB/s eta 0:00:01\r\u001b[K     |████████████▏                   | 696kB 37.5MB/s eta 0:00:01\r\u001b[K     |████████████▍                   | 706kB 37.5MB/s eta 0:00:01\r\u001b[K     |████████████▋                   | 716kB 37.5MB/s eta 0:00:01\r\u001b[K     |████████████▊                   | 727kB 37.5MB/s eta 0:00:01\r\u001b[K     |█████████████                   | 737kB 37.5MB/s eta 0:00:01\r\u001b[K     |█████████████▏                  | 747kB 37.5MB/s eta 0:00:01\r\u001b[K     |█████████████▎                  | 757kB 37.5MB/s eta 0:00:01\r\u001b[K     |█████████████▌                  | 768kB 37.5MB/s eta 0:00:01\r\u001b[K     |█████████████▋                  | 778kB 37.5MB/s eta 0:00:01\r\u001b[K     |█████████████▉                  | 788kB 37.5MB/s eta 0:00:01\r\u001b[K     |██████████████                  | 798kB 37.5MB/s eta 0:00:01\r\u001b[K     |██████████████▏                 | 808kB 37.5MB/s eta 0:00:01\r\u001b[K     |██████████████▍                 | 819kB 37.5MB/s eta 0:00:01\r\u001b[K     |██████████████▌                 | 829kB 37.5MB/s eta 0:00:01\r\u001b[K     |██████████████▊                 | 839kB 37.5MB/s eta 0:00:01\r\u001b[K     |███████████████                 | 849kB 37.5MB/s eta 0:00:01\r\u001b[K     |███████████████                 | 860kB 37.5MB/s eta 0:00:01\r\u001b[K     |███████████████▎                | 870kB 37.5MB/s eta 0:00:01\r\u001b[K     |███████████████▌                | 880kB 37.5MB/s eta 0:00:01\r\u001b[K     |███████████████▋                | 890kB 37.5MB/s eta 0:00:01\r\u001b[K     |███████████████▉                | 901kB 37.5MB/s eta 0:00:01\r\u001b[K     |████████████████                | 911kB 37.5MB/s eta 0:00:01\r\u001b[K     |████████████████▏               | 921kB 37.5MB/s eta 0:00:01\r\u001b[K     |████████████████▍               | 931kB 37.5MB/s eta 0:00:01\r\u001b[K     |████████████████▌               | 942kB 37.5MB/s eta 0:00:01\r\u001b[K     |████████████████▊               | 952kB 37.5MB/s eta 0:00:01\r\u001b[K     |████████████████▉               | 962kB 37.5MB/s eta 0:00:01\r\u001b[K     |█████████████████               | 972kB 37.5MB/s eta 0:00:01\r\u001b[K     |█████████████████▎              | 983kB 37.5MB/s eta 0:00:01\r\u001b[K     |█████████████████▍              | 993kB 37.5MB/s eta 0:00:01\r\u001b[K     |█████████████████▋              | 1.0MB 37.5MB/s eta 0:00:01\r\u001b[K     |█████████████████▉              | 1.0MB 37.5MB/s eta 0:00:01\r\u001b[K     |██████████████████              | 1.0MB 37.5MB/s eta 0:00:01\r\u001b[K     |██████████████████▏             | 1.0MB 37.5MB/s eta 0:00:01\r\u001b[K     |██████████████████▎             | 1.0MB 37.5MB/s eta 0:00:01\r\u001b[K     |██████████████████▌             | 1.1MB 37.5MB/s eta 0:00:01\r\u001b[K     |██████████████████▊             | 1.1MB 37.5MB/s eta 0:00:01\r\u001b[K     |██████████████████▉             | 1.1MB 37.5MB/s eta 0:00:01\r\u001b[K     |███████████████████             | 1.1MB 37.5MB/s eta 0:00:01\r\u001b[K     |███████████████████▏            | 1.1MB 37.5MB/s eta 0:00:01\r\u001b[K     |███████████████████▍            | 1.1MB 37.5MB/s eta 0:00:01\r\u001b[K     |███████████████████▋            | 1.1MB 37.5MB/s eta 0:00:01\r\u001b[K     |███████████████████▊            | 1.1MB 37.5MB/s eta 0:00:01\r\u001b[K     |████████████████████            | 1.1MB 37.5MB/s eta 0:00:01\r\u001b[K     |████████████████████▏           | 1.1MB 37.5MB/s eta 0:00:01\r\u001b[K     |████████████████████▎           | 1.2MB 37.5MB/s eta 0:00:01\r\u001b[K     |████████████████████▌           | 1.2MB 37.5MB/s eta 0:00:01\r\u001b[K     |████████████████████▋           | 1.2MB 37.5MB/s eta 0:00:01\r\u001b[K     |████████████████████▉           | 1.2MB 37.5MB/s eta 0:00:01\r\u001b[K     |█████████████████████           | 1.2MB 37.5MB/s eta 0:00:01\r\u001b[K     |█████████████████████▏          | 1.2MB 37.5MB/s eta 0:00:01\r\u001b[K     |█████████████████████▍          | 1.2MB 37.5MB/s eta 0:00:01\r\u001b[K     |█████████████████████▋          | 1.2MB 37.5MB/s eta 0:00:01\r\u001b[K     |█████████████████████▊          | 1.2MB 37.5MB/s eta 0:00:01\r\u001b[K     |██████████████████████          | 1.2MB 37.5MB/s eta 0:00:01\r\u001b[K     |██████████████████████          | 1.3MB 37.5MB/s eta 0:00:01\r\u001b[K     |██████████████████████▎         | 1.3MB 37.5MB/s eta 0:00:01\r\u001b[K     |██████████████████████▌         | 1.3MB 37.5MB/s eta 0:00:01\r\u001b[K     |██████████████████████▋         | 1.3MB 37.5MB/s eta 0:00:01\r\u001b[K     |██████████████████████▉         | 1.3MB 37.5MB/s eta 0:00:01\r\u001b[K     |███████████████████████         | 1.3MB 37.5MB/s eta 0:00:01\r\u001b[K     |███████████████████████▏        | 1.3MB 37.5MB/s eta 0:00:01\r\u001b[K     |███████████████████████▍        | 1.3MB 37.5MB/s eta 0:00:01\r\u001b[K     |███████████████████████▌        | 1.3MB 37.5MB/s eta 0:00:01\r\u001b[K     |███████████████████████▊        | 1.4MB 37.5MB/s eta 0:00:01\r\u001b[K     |████████████████████████        | 1.4MB 37.5MB/s eta 0:00:01\r\u001b[K     |████████████████████████        | 1.4MB 37.5MB/s eta 0:00:01\r\u001b[K     |████████████████████████▎       | 1.4MB 37.5MB/s eta 0:00:01\r\u001b[K     |████████████████████████▍       | 1.4MB 37.5MB/s eta 0:00:01\r\u001b[K     |████████████████████████▋       | 1.4MB 37.5MB/s eta 0:00:01\r\u001b[K     |████████████████████████▉       | 1.4MB 37.5MB/s eta 0:00:01\r\u001b[K     |█████████████████████████       | 1.4MB 37.5MB/s eta 0:00:01\r\u001b[K     |█████████████████████████▏      | 1.4MB 37.5MB/s eta 0:00:01\r\u001b[K     |█████████████████████████▎      | 1.4MB 37.5MB/s eta 0:00:01\r\u001b[K     |█████████████████████████▌      | 1.5MB 37.5MB/s eta 0:00:01\r\u001b[K     |█████████████████████████▊      | 1.5MB 37.5MB/s eta 0:00:01\r\u001b[K     |█████████████████████████▉      | 1.5MB 37.5MB/s eta 0:00:01\r\u001b[K     |██████████████████████████      | 1.5MB 37.5MB/s eta 0:00:01\r\u001b[K     |██████████████████████████▎     | 1.5MB 37.5MB/s eta 0:00:01\r\u001b[K     |██████████████████████████▍     | 1.5MB 37.5MB/s eta 0:00:01\r\u001b[K     |██████████████████████████▋     | 1.5MB 37.5MB/s eta 0:00:01\r\u001b[K     |██████████████████████████▊     | 1.5MB 37.5MB/s eta 0:00:01\r\u001b[K     |███████████████████████████     | 1.5MB 37.5MB/s eta 0:00:01\r\u001b[K     |███████████████████████████▏    | 1.5MB 37.5MB/s eta 0:00:01\r\u001b[K     |███████████████████████████▎    | 1.6MB 37.5MB/s eta 0:00:01\r\u001b[K     |███████████████████████████▌    | 1.6MB 37.5MB/s eta 0:00:01\r\u001b[K     |███████████████████████████▋    | 1.6MB 37.5MB/s eta 0:00:01\r\u001b[K     |███████████████████████████▉    | 1.6MB 37.5MB/s eta 0:00:01\r\u001b[K     |████████████████████████████    | 1.6MB 37.5MB/s eta 0:00:01\r\u001b[K     |████████████████████████████▏   | 1.6MB 37.5MB/s eta 0:00:01\r\u001b[K     |████████████████████████████▍   | 1.6MB 37.5MB/s eta 0:00:01\r\u001b[K     |████████████████████████████▋   | 1.6MB 37.5MB/s eta 0:00:01\r\u001b[K     |████████████████████████████▊   | 1.6MB 37.5MB/s eta 0:00:01\r\u001b[K     |█████████████████████████████   | 1.6MB 37.5MB/s eta 0:00:01\r\u001b[K     |█████████████████████████████   | 1.7MB 37.5MB/s eta 0:00:01\r\u001b[K     |█████████████████████████████▎  | 1.7MB 37.5MB/s eta 0:00:01\r\u001b[K     |█████████████████████████████▌  | 1.7MB 37.5MB/s eta 0:00:01\r\u001b[K     |█████████████████████████████▋  | 1.7MB 37.5MB/s eta 0:00:01\r\u001b[K     |█████████████████████████████▉  | 1.7MB 37.5MB/s eta 0:00:01\r\u001b[K     |██████████████████████████████  | 1.7MB 37.5MB/s eta 0:00:01\r\u001b[K     |██████████████████████████████▏ | 1.7MB 37.5MB/s eta 0:00:01\r\u001b[K     |██████████████████████████████▍ | 1.7MB 37.5MB/s eta 0:00:01\r\u001b[K     |██████████████████████████████▌ | 1.7MB 37.5MB/s eta 0:00:01\r\u001b[K     |██████████████████████████████▊ | 1.8MB 37.5MB/s eta 0:00:01\r\u001b[K     |███████████████████████████████ | 1.8MB 37.5MB/s eta 0:00:01\r\u001b[K     |███████████████████████████████ | 1.8MB 37.5MB/s eta 0:00:01\r\u001b[K     |███████████████████████████████▎| 1.8MB 37.5MB/s eta 0:00:01\r\u001b[K     |███████████████████████████████▍| 1.8MB 37.5MB/s eta 0:00:01\r\u001b[K     |███████████████████████████████▋| 1.8MB 37.5MB/s eta 0:00:01\r\u001b[K     |███████████████████████████████▉| 1.8MB 37.5MB/s eta 0:00:01\r\u001b[K     |████████████████████████████████| 1.8MB 37.5MB/s eta 0:00:01\r\u001b[K     |████████████████████████████████| 1.8MB 37.5MB/s \n",
            "\u001b[?25hRequirement already satisfied: Click!=8.0.0,>=7.0 in /usr/local/lib/python3.7/dist-packages (from wandb) (7.1.2)\n",
            "Requirement already satisfied: PyYAML in /usr/local/lib/python3.7/dist-packages (from wandb) (3.13)\n",
            "Collecting docker-pycreds>=0.4.0\n",
            "  Downloading https://files.pythonhosted.org/packages/f5/e8/f6bd1eee09314e7e6dee49cbe2c5e22314ccdb38db16c9fc72d2fa80d054/docker_pycreds-0.4.0-py2.py3-none-any.whl\n",
            "Requirement already satisfied: psutil>=5.0.0 in /usr/local/lib/python3.7/dist-packages (from wandb) (5.4.8)\n",
            "Collecting subprocess32>=3.5.3\n",
            "\u001b[?25l  Downloading https://files.pythonhosted.org/packages/32/c8/564be4d12629b912ea431f1a50eb8b3b9d00f1a0b1ceff17f266be190007/subprocess32-3.5.4.tar.gz (97kB)\n",
            "\u001b[K     |████████████████████████████████| 102kB 14.6MB/s \n",
            "\u001b[?25hRequirement already satisfied: six>=1.13.0 in /usr/local/lib/python3.7/dist-packages (from wandb) (1.15.0)\n",
            "Collecting configparser>=3.8.1\n",
            "  Downloading https://files.pythonhosted.org/packages/fd/01/ff260a18caaf4457eb028c96eeb405c4a230ca06c8ec9c1379f813caa52e/configparser-5.0.2-py3-none-any.whl\n",
            "Collecting shortuuid>=0.5.0\n",
            "  Downloading https://files.pythonhosted.org/packages/25/a6/2ecc1daa6a304e7f1b216f0896b26156b78e7c38e1211e9b798b4716c53d/shortuuid-1.0.1-py3-none-any.whl\n",
            "Requirement already satisfied: protobuf>=3.12.0 in /usr/local/lib/python3.7/dist-packages (from wandb) (3.12.4)\n",
            "Collecting sentry-sdk>=0.4.0\n",
            "\u001b[?25l  Downloading https://files.pythonhosted.org/packages/1c/4a/a54b254f67d8f4052338d54ebe90126f200693440a93ef76d254d581e3ec/sentry_sdk-1.1.0-py2.py3-none-any.whl (131kB)\n",
            "\u001b[K     |████████████████████████████████| 133kB 53.3MB/s \n",
            "\u001b[?25hCollecting pathtools\n",
            "  Downloading https://files.pythonhosted.org/packages/e7/7f/470d6fcdf23f9f3518f6b0b76be9df16dcc8630ad409947f8be2eb0ed13a/pathtools-0.1.2.tar.gz\n",
            "Collecting GitPython>=1.0.0\n",
            "\u001b[?25l  Downloading https://files.pythonhosted.org/packages/bc/91/b38c4fabb6e5092ab23492ded4f318ab7299b19263272b703478038c0fbc/GitPython-3.1.18-py3-none-any.whl (170kB)\n",
            "\u001b[K     |████████████████████████████████| 174kB 51.7MB/s \n",
            "\u001b[?25hRequirement already satisfied: promise<3,>=2.0 in /usr/local/lib/python3.7/dist-packages (from wandb) (2.3)\n",
            "Requirement already satisfied: requests<3,>=2.0.0 in /usr/local/lib/python3.7/dist-packages (from wandb) (2.23.0)\n",
            "Requirement already satisfied: python-dateutil>=2.6.1 in /usr/local/lib/python3.7/dist-packages (from wandb) (2.8.1)\n",
            "Requirement already satisfied: setuptools in /usr/local/lib/python3.7/dist-packages (from protobuf>=3.12.0->wandb) (57.0.0)\n",
            "Requirement already satisfied: certifi in /usr/local/lib/python3.7/dist-packages (from sentry-sdk>=0.4.0->wandb) (2021.5.30)\n",
            "Requirement already satisfied: urllib3>=1.10.0 in /usr/local/lib/python3.7/dist-packages (from sentry-sdk>=0.4.0->wandb) (1.24.3)\n",
            "Requirement already satisfied: typing-extensions>=3.7.4.0; python_version < \"3.8\" in /usr/local/lib/python3.7/dist-packages (from GitPython>=1.0.0->wandb) (3.7.4.3)\n",
            "Collecting gitdb<5,>=4.0.1\n",
            "\u001b[?25l  Downloading https://files.pythonhosted.org/packages/ea/e8/f414d1a4f0bbc668ed441f74f44c116d9816833a48bf81d22b697090dba8/gitdb-4.0.7-py3-none-any.whl (63kB)\n",
            "\u001b[K     |████████████████████████████████| 71kB 12.4MB/s \n",
            "\u001b[?25hRequirement already satisfied: chardet<4,>=3.0.2 in /usr/local/lib/python3.7/dist-packages (from requests<3,>=2.0.0->wandb) (3.0.4)\n",
            "Requirement already satisfied: idna<3,>=2.5 in /usr/local/lib/python3.7/dist-packages (from requests<3,>=2.0.0->wandb) (2.10)\n",
            "Collecting smmap<5,>=3.0.1\n",
            "  Downloading https://files.pythonhosted.org/packages/68/ee/d540eb5e5996eb81c26ceffac6ee49041d473bc5125f2aa995cf51ec1cf1/smmap-4.0.0-py2.py3-none-any.whl\n",
            "Building wheels for collected packages: subprocess32, pathtools\n",
            "  Building wheel for subprocess32 (setup.py) ... \u001b[?25l\u001b[?25hdone\n",
            "  Created wheel for subprocess32: filename=subprocess32-3.5.4-cp37-none-any.whl size=6502 sha256=eebd94e727355ef58e90e86af625e38d6266ca8d26ec19edf2af268f389ff2f7\n",
            "  Stored in directory: /root/.cache/pip/wheels/68/39/1a/5e402bdfdf004af1786c8b853fd92f8c4a04f22aad179654d1\n",
            "  Building wheel for pathtools (setup.py) ... \u001b[?25l\u001b[?25hdone\n",
            "  Created wheel for pathtools: filename=pathtools-0.1.2-cp37-none-any.whl size=8807 sha256=7277be3710acf729ebb436cb65026e6a285c7d8c83c11315547c05ee5fe5cf65\n",
            "  Stored in directory: /root/.cache/pip/wheels/0b/04/79/c3b0c3a0266a3cb4376da31e5bfe8bba0c489246968a68e843\n",
            "Successfully built subprocess32 pathtools\n",
            "Installing collected packages: docker-pycreds, subprocess32, configparser, shortuuid, sentry-sdk, pathtools, smmap, gitdb, GitPython, wandb\n",
            "Successfully installed GitPython-3.1.18 configparser-5.0.2 docker-pycreds-0.4.0 gitdb-4.0.7 pathtools-0.1.2 sentry-sdk-1.1.0 shortuuid-1.0.1 smmap-4.0.0 subprocess32-3.5.4 wandb-0.10.32\n"
          ],
          "name": "stdout"
        },
        {
          "output_type": "display_data",
          "data": {
            "application/javascript": [
              "\n",
              "        window._wandbApiKey = new Promise((resolve, reject) => {\n",
              "            function loadScript(url) {\n",
              "            return new Promise(function(resolve, reject) {\n",
              "                let newScript = document.createElement(\"script\");\n",
              "                newScript.onerror = reject;\n",
              "                newScript.onload = resolve;\n",
              "                document.body.appendChild(newScript);\n",
              "                newScript.src = url;\n",
              "            });\n",
              "            }\n",
              "            loadScript(\"https://cdn.jsdelivr.net/npm/postmate/build/postmate.min.js\").then(() => {\n",
              "            const iframe = document.createElement('iframe')\n",
              "            iframe.style.cssText = \"width:0;height:0;border:none\"\n",
              "            document.body.appendChild(iframe)\n",
              "            const handshake = new Postmate({\n",
              "                container: iframe,\n",
              "                url: 'https://wandb.ai/authorize'\n",
              "            });\n",
              "            const timeout = setTimeout(() => reject(\"Couldn't auto authenticate\"), 5000)\n",
              "            handshake.then(function(child) {\n",
              "                child.on('authorize', data => {\n",
              "                    clearTimeout(timeout)\n",
              "                    resolve(data)\n",
              "                });\n",
              "            });\n",
              "            })\n",
              "        });\n",
              "    "
            ],
            "text/plain": [
              "<IPython.core.display.Javascript object>"
            ]
          },
          "metadata": {
            "tags": []
          }
        },
        {
          "output_type": "stream",
          "text": [
            "\u001b[34m\u001b[1mwandb\u001b[0m: You can find your API key in your browser here: https://wandb.ai/authorize\n"
          ],
          "name": "stderr"
        },
        {
          "output_type": "stream",
          "text": [
            "wandb: Paste an API key from your profile and hit enter: ··········\n"
          ],
          "name": "stdout"
        },
        {
          "output_type": "stream",
          "text": [
            "\u001b[34m\u001b[1mwandb\u001b[0m: Appending key for api.wandb.ai to your netrc file: /root/.netrc\n"
          ],
          "name": "stderr"
        },
        {
          "output_type": "execute_result",
          "data": {
            "text/plain": [
              "True"
            ]
          },
          "metadata": {
            "tags": []
          },
          "execution_count": 1
        }
      ]
    },
    {
      "cell_type": "code",
      "metadata": {
        "colab": {
          "base_uri": "https://localhost:8080/"
        },
        "id": "89k9Gz9FAZzK",
        "outputId": "9b7bb421-2fae-497b-895c-38a49a84b814"
      },
      "source": [
        "from google.colab import drive\n",
        "\n",
        "drive.mount('/content/gdrive')"
      ],
      "execution_count": null,
      "outputs": [
        {
          "output_type": "stream",
          "text": [
            "Mounted at /content/gdrive\n"
          ],
          "name": "stdout"
        }
      ]
    },
    {
      "cell_type": "code",
      "metadata": {
        "colab": {
          "base_uri": "https://localhost:8080/"
        },
        "id": "CtL3SjFtA5HG",
        "outputId": "d63994ac-7a03-42b1-a5dd-5791a70e8aa2"
      },
      "source": [
        "!pip install -r gdrive/MyDrive/punctuation-restoration/requirements.txt"
      ],
      "execution_count": null,
      "outputs": [
        {
          "output_type": "stream",
          "text": [
            "Collecting transformers==v2.11.0\n",
            "\u001b[?25l  Downloading https://files.pythonhosted.org/packages/48/35/ad2c5b1b8f99feaaf9d7cdadaeef261f098c6e1a6a2935d4d07662a6b780/transformers-2.11.0-py3-none-any.whl (674kB)\n",
            "\r\u001b[K     |▌                               | 10kB 18.5MB/s eta 0:00:01\r\u001b[K     |█                               | 20kB 19.6MB/s eta 0:00:01\r\u001b[K     |█▌                              | 30kB 23.0MB/s eta 0:00:01\r\u001b[K     |██                              | 40kB 24.4MB/s eta 0:00:01\r\u001b[K     |██▍                             | 51kB 26.3MB/s eta 0:00:01\r\u001b[K     |███                             | 61kB 28.3MB/s eta 0:00:01\r\u001b[K     |███▍                            | 71kB 30.0MB/s eta 0:00:01\r\u001b[K     |███▉                            | 81kB 31.5MB/s eta 0:00:01\r\u001b[K     |████▍                           | 92kB 30.5MB/s eta 0:00:01\r\u001b[K     |████▉                           | 102kB 32.0MB/s eta 0:00:01\r\u001b[K     |█████▍                          | 112kB 32.0MB/s eta 0:00:01\r\u001b[K     |█████▉                          | 122kB 32.0MB/s eta 0:00:01\r\u001b[K     |██████▎                         | 133kB 32.0MB/s eta 0:00:01\r\u001b[K     |██████▉                         | 143kB 32.0MB/s eta 0:00:01\r\u001b[K     |███████▎                        | 153kB 32.0MB/s eta 0:00:01\r\u001b[K     |███████▊                        | 163kB 32.0MB/s eta 0:00:01\r\u001b[K     |████████▎                       | 174kB 32.0MB/s eta 0:00:01\r\u001b[K     |████████▊                       | 184kB 32.0MB/s eta 0:00:01\r\u001b[K     |█████████▎                      | 194kB 32.0MB/s eta 0:00:01\r\u001b[K     |█████████▊                      | 204kB 32.0MB/s eta 0:00:01\r\u001b[K     |██████████▏                     | 215kB 32.0MB/s eta 0:00:01\r\u001b[K     |██████████▊                     | 225kB 32.0MB/s eta 0:00:01\r\u001b[K     |███████████▏                    | 235kB 32.0MB/s eta 0:00:01\r\u001b[K     |███████████▋                    | 245kB 32.0MB/s eta 0:00:01\r\u001b[K     |████████████▏                   | 256kB 32.0MB/s eta 0:00:01\r\u001b[K     |████████████▋                   | 266kB 32.0MB/s eta 0:00:01\r\u001b[K     |█████████████                   | 276kB 32.0MB/s eta 0:00:01\r\u001b[K     |█████████████▋                  | 286kB 32.0MB/s eta 0:00:01\r\u001b[K     |██████████████                  | 296kB 32.0MB/s eta 0:00:01\r\u001b[K     |██████████████▋                 | 307kB 32.0MB/s eta 0:00:01\r\u001b[K     |███████████████                 | 317kB 32.0MB/s eta 0:00:01\r\u001b[K     |███████████████▌                | 327kB 32.0MB/s eta 0:00:01\r\u001b[K     |████████████████                | 337kB 32.0MB/s eta 0:00:01\r\u001b[K     |████████████████▌               | 348kB 32.0MB/s eta 0:00:01\r\u001b[K     |█████████████████               | 358kB 32.0MB/s eta 0:00:01\r\u001b[K     |█████████████████▌              | 368kB 32.0MB/s eta 0:00:01\r\u001b[K     |██████████████████              | 378kB 32.0MB/s eta 0:00:01\r\u001b[K     |██████████████████▌             | 389kB 32.0MB/s eta 0:00:01\r\u001b[K     |███████████████████             | 399kB 32.0MB/s eta 0:00:01\r\u001b[K     |███████████████████▍            | 409kB 32.0MB/s eta 0:00:01\r\u001b[K     |████████████████████            | 419kB 32.0MB/s eta 0:00:01\r\u001b[K     |████████████████████▍           | 430kB 32.0MB/s eta 0:00:01\r\u001b[K     |████████████████████▉           | 440kB 32.0MB/s eta 0:00:01\r\u001b[K     |█████████████████████▍          | 450kB 32.0MB/s eta 0:00:01\r\u001b[K     |█████████████████████▉          | 460kB 32.0MB/s eta 0:00:01\r\u001b[K     |██████████████████████▍         | 471kB 32.0MB/s eta 0:00:01\r\u001b[K     |██████████████████████▉         | 481kB 32.0MB/s eta 0:00:01\r\u001b[K     |███████████████████████▎        | 491kB 32.0MB/s eta 0:00:01\r\u001b[K     |███████████████████████▉        | 501kB 32.0MB/s eta 0:00:01\r\u001b[K     |████████████████████████▎       | 512kB 32.0MB/s eta 0:00:01\r\u001b[K     |████████████████████████▊       | 522kB 32.0MB/s eta 0:00:01\r\u001b[K     |█████████████████████████▎      | 532kB 32.0MB/s eta 0:00:01\r\u001b[K     |█████████████████████████▊      | 542kB 32.0MB/s eta 0:00:01\r\u001b[K     |██████████████████████████▏     | 552kB 32.0MB/s eta 0:00:01\r\u001b[K     |██████████████████████████▊     | 563kB 32.0MB/s eta 0:00:01\r\u001b[K     |███████████████████████████▏    | 573kB 32.0MB/s eta 0:00:01\r\u001b[K     |███████████████████████████▊    | 583kB 32.0MB/s eta 0:00:01\r\u001b[K     |████████████████████████████▏   | 593kB 32.0MB/s eta 0:00:01\r\u001b[K     |████████████████████████████▋   | 604kB 32.0MB/s eta 0:00:01\r\u001b[K     |█████████████████████████████▏  | 614kB 32.0MB/s eta 0:00:01\r\u001b[K     |█████████████████████████████▋  | 624kB 32.0MB/s eta 0:00:01\r\u001b[K     |██████████████████████████████  | 634kB 32.0MB/s eta 0:00:01\r\u001b[K     |██████████████████████████████▋ | 645kB 32.0MB/s eta 0:00:01\r\u001b[K     |███████████████████████████████ | 655kB 32.0MB/s eta 0:00:01\r\u001b[K     |███████████████████████████████▋| 665kB 32.0MB/s eta 0:00:01\r\u001b[K     |████████████████████████████████| 675kB 32.0MB/s \n",
            "\u001b[?25hCollecting pytorch-crf\n",
            "  Downloading https://files.pythonhosted.org/packages/96/7d/4c4688e26ea015fc118a0327e5726e6596836abce9182d3738be8ec2e32a/pytorch_crf-0.7.2-py3-none-any.whl\n",
            "Requirement already satisfied: numpy in /usr/local/lib/python3.7/dist-packages (from transformers==v2.11.0->-r gdrive/MyDrive/punctuation-restoration/requirements.txt (line 1)) (1.19.5)\n",
            "Requirement already satisfied: regex!=2019.12.17 in /usr/local/lib/python3.7/dist-packages (from transformers==v2.11.0->-r gdrive/MyDrive/punctuation-restoration/requirements.txt (line 1)) (2019.12.20)\n",
            "Collecting sentencepiece\n",
            "\u001b[?25l  Downloading https://files.pythonhosted.org/packages/ac/aa/1437691b0c7c83086ebb79ce2da16e00bef024f24fec2a5161c35476f499/sentencepiece-0.1.96-cp37-cp37m-manylinux_2_17_x86_64.manylinux2014_x86_64.whl (1.2MB)\n",
            "\u001b[K     |████████████████████████████████| 1.2MB 49.7MB/s \n",
            "\u001b[?25hCollecting tokenizers==0.7.0\n",
            "\u001b[?25l  Downloading https://files.pythonhosted.org/packages/ea/59/bb06dd5ca53547d523422d32735585493e0103c992a52a97ba3aa3be33bf/tokenizers-0.7.0-cp37-cp37m-manylinux1_x86_64.whl (5.6MB)\n",
            "\u001b[K     |████████████████████████████████| 5.6MB 52.5MB/s \n",
            "\u001b[?25hRequirement already satisfied: requests in /usr/local/lib/python3.7/dist-packages (from transformers==v2.11.0->-r gdrive/MyDrive/punctuation-restoration/requirements.txt (line 1)) (2.23.0)\n",
            "Requirement already satisfied: filelock in /usr/local/lib/python3.7/dist-packages (from transformers==v2.11.0->-r gdrive/MyDrive/punctuation-restoration/requirements.txt (line 1)) (3.0.12)\n",
            "Collecting sacremoses\n",
            "\u001b[?25l  Downloading https://files.pythonhosted.org/packages/75/ee/67241dc87f266093c533a2d4d3d69438e57d7a90abb216fa076e7d475d4a/sacremoses-0.0.45-py3-none-any.whl (895kB)\n",
            "\u001b[K     |████████████████████████████████| 901kB 53.9MB/s \n",
            "\u001b[?25hRequirement already satisfied: tqdm>=4.27 in /usr/local/lib/python3.7/dist-packages (from transformers==v2.11.0->-r gdrive/MyDrive/punctuation-restoration/requirements.txt (line 1)) (4.41.1)\n",
            "Requirement already satisfied: packaging in /usr/local/lib/python3.7/dist-packages (from transformers==v2.11.0->-r gdrive/MyDrive/punctuation-restoration/requirements.txt (line 1)) (20.9)\n",
            "Requirement already satisfied: certifi>=2017.4.17 in /usr/local/lib/python3.7/dist-packages (from requests->transformers==v2.11.0->-r gdrive/MyDrive/punctuation-restoration/requirements.txt (line 1)) (2021.5.30)\n",
            "Requirement already satisfied: urllib3!=1.25.0,!=1.25.1,<1.26,>=1.21.1 in /usr/local/lib/python3.7/dist-packages (from requests->transformers==v2.11.0->-r gdrive/MyDrive/punctuation-restoration/requirements.txt (line 1)) (1.24.3)\n",
            "Requirement already satisfied: idna<3,>=2.5 in /usr/local/lib/python3.7/dist-packages (from requests->transformers==v2.11.0->-r gdrive/MyDrive/punctuation-restoration/requirements.txt (line 1)) (2.10)\n",
            "Requirement already satisfied: chardet<4,>=3.0.2 in /usr/local/lib/python3.7/dist-packages (from requests->transformers==v2.11.0->-r gdrive/MyDrive/punctuation-restoration/requirements.txt (line 1)) (3.0.4)\n",
            "Requirement already satisfied: joblib in /usr/local/lib/python3.7/dist-packages (from sacremoses->transformers==v2.11.0->-r gdrive/MyDrive/punctuation-restoration/requirements.txt (line 1)) (1.0.1)\n",
            "Requirement already satisfied: six in /usr/local/lib/python3.7/dist-packages (from sacremoses->transformers==v2.11.0->-r gdrive/MyDrive/punctuation-restoration/requirements.txt (line 1)) (1.15.0)\n",
            "Requirement already satisfied: click in /usr/local/lib/python3.7/dist-packages (from sacremoses->transformers==v2.11.0->-r gdrive/MyDrive/punctuation-restoration/requirements.txt (line 1)) (7.1.2)\n",
            "Requirement already satisfied: pyparsing>=2.0.2 in /usr/local/lib/python3.7/dist-packages (from packaging->transformers==v2.11.0->-r gdrive/MyDrive/punctuation-restoration/requirements.txt (line 1)) (2.4.7)\n",
            "Installing collected packages: sentencepiece, tokenizers, sacremoses, transformers, pytorch-crf\n",
            "Successfully installed pytorch-crf-0.7.2 sacremoses-0.0.45 sentencepiece-0.1.96 tokenizers-0.7.0 transformers-2.11.0\n"
          ],
          "name": "stdout"
        }
      ]
    },
    {
      "cell_type": "code",
      "metadata": {
        "colab": {
          "base_uri": "https://localhost:8080/"
        },
        "id": "Xn4iAYuBBpKu",
        "outputId": "b7c1adee-08d8-41d9-81ad-82f073ec0386"
      },
      "source": [
        "!python gdrive/MyDrive/punctuation-restoration/src/train.py --cuda=True --pretrained-model=bert-base-uncased --freeze-bert=False --lstm-dim=-1 --language=english --seed=1 --lr=5e-6 --epoch=10 --use-crf=False --augment-type=all  --augment-rate=0.15 --alpha-sub=0.4 --alpha-del=0.4 --data-path=gdrive/MyDrive/punctuation-restoration/data --save-path=gdrive/MyDrive/punctuation-restoration/out\n"
      ],
      "execution_count": null,
      "outputs": [
        {
          "output_type": "stream",
          "text": [
            "2021-06-21 06:30:29.503397: I tensorflow/stream_executor/platform/default/dso_loader.cc:53] Successfully opened dynamic library libcudart.so.11.0\n",
            "\u001b[34m\u001b[1mwandb\u001b[0m: Currently logged in as: \u001b[33mtrishal-singh\u001b[0m (use `wandb login --relogin` to force relogin)\n",
            "2021-06-21 06:30:33.682067: I tensorflow/stream_executor/platform/default/dso_loader.cc:53] Successfully opened dynamic library libcudart.so.11.0\n",
            "\u001b[34m\u001b[1mwandb\u001b[0m: Tracking run with wandb version 0.10.32\n",
            "\u001b[34m\u001b[1mwandb\u001b[0m: Syncing run \u001b[33mbert-base-uncased\u001b[0m\n",
            "\u001b[34m\u001b[1mwandb\u001b[0m: ⭐️ View project at \u001b[34m\u001b[4mhttps://wandb.ai/trishal-singh/Video%20to%20text\u001b[0m\n",
            "\u001b[34m\u001b[1mwandb\u001b[0m: 🚀 View run at \u001b[34m\u001b[4mhttps://wandb.ai/trishal-singh/Video%20to%20text/runs/2jdbwz8w\u001b[0m\n",
            "\u001b[34m\u001b[1mwandb\u001b[0m: Run data is saved locally in /content/wandb/run-20210621_063032-2jdbwz8w\n",
            "\u001b[34m\u001b[1mwandb\u001b[0m: Run `wandb offline` to turn off syncing.\n",
            "\n",
            "Downloading: 100% 232k/232k [00:00<00:00, 907kB/s]\n",
            "Downloading: 100% 433/433 [00:00<00:00, 358kB/s]\n",
            "Downloading: 100% 440M/440M [00:07<00:00, 60.8MB/s]\n",
            "train: 100% 1129/1129 [10:14<00:00,  1.84it/s]\n",
            "epoch: 0, Train loss: 0.3210734733973487, Train accuracy: 0.8832341702276008\n",
            "eval: 100% 160/160 [00:30<00:00,  5.18it/s]\n",
            "epoch: 0, Val loss: 0.19627324054017664, Val accuracy: 0.9193111584818137\n",
            "train: 100% 1129/1129 [10:20<00:00,  1.82it/s]\n",
            "epoch: 1, Train loss: 0.21188301622761996, Train accuracy: 0.9121990113064906\n",
            "eval: 100% 160/160 [00:31<00:00,  5.10it/s]\n",
            "epoch: 1, Val loss: 0.15896808579564095, Val accuracy: 0.9347792569949993\n",
            "train: 100% 1129/1129 [10:20<00:00,  1.82it/s]\n",
            "epoch: 2, Train loss: 0.19044083238070364, Train accuracy: 0.9203791970264839\n",
            "eval: 100% 160/160 [00:31<00:00,  5.13it/s]\n",
            "epoch: 2, Val loss: 0.14841470760293304, Val accuracy: 0.9387945943771869\n",
            "train: 100% 1129/1129 [10:21<00:00,  1.82it/s]\n",
            "epoch: 3, Train loss: 0.1805424406609776, Train accuracy: 0.9245887035890549\n",
            "eval: 100% 160/160 [00:30<00:00,  5.17it/s]\n",
            "epoch: 3, Val loss: 0.14056098647415638, Val accuracy: 0.9416770569386906\n",
            "train: 100% 1129/1129 [10:20<00:00,  1.82it/s]\n",
            "epoch: 4, Train loss: 0.17457775281951743, Train accuracy: 0.9267390845659655\n",
            "eval: 100% 160/160 [00:30<00:00,  5.17it/s]\n",
            "epoch: 4, Val loss: 0.13735574115999044, Val accuracy: 0.9430914746142193\n",
            "train: 100% 1129/1129 [10:20<00:00,  1.82it/s]\n",
            "epoch: 5, Train loss: 0.16939606746548144, Train accuracy: 0.929034289098687\n",
            "eval: 100% 160/160 [00:31<00:00,  5.16it/s]\n",
            "epoch: 5, Val loss: 0.13575529674999415, Val accuracy: 0.9437350011395782\n",
            "train: 100% 1129/1129 [10:20<00:00,  1.82it/s]\n",
            "epoch: 6, Train loss: 0.16523682403289924, Train accuracy: 0.9306173645511944\n",
            "eval: 100% 160/160 [00:30<00:00,  5.18it/s]\n",
            "epoch: 6, Val loss: 0.133586446614936, Val accuracy: 0.944536057595624\n",
            "train: 100% 1129/1129 [10:19<00:00,  1.82it/s]\n",
            "epoch: 7, Train loss: 0.16190577392772407, Train accuracy: 0.9316917514659349\n",
            "eval: 100% 160/160 [00:30<00:00,  5.17it/s]\n",
            "epoch: 7, Val loss: 0.13222665027715266, Val accuracy: 0.9449248548713617\n",
            "train: 100% 1129/1129 [10:20<00:00,  1.82it/s]\n",
            "epoch: 8, Train loss: 0.15907083643126846, Train accuracy: 0.9328732014323049\n",
            "eval: 100% 160/160 [00:30<00:00,  5.16it/s]\n",
            "epoch: 8, Val loss: 0.13015248444862665, Val accuracy: 0.9456856909195726\n",
            "train: 100% 1129/1129 [10:20<00:00,  1.82it/s]\n",
            "epoch: 9, Train loss: 0.15620163667772174, Train accuracy: 0.9340407032035432\n",
            "eval: 100% 160/160 [00:31<00:00,  5.14it/s]\n",
            "epoch: 9, Val loss: 0.12905198796652256, Val accuracy: 0.9459906956789875\n",
            "Best validation Acc: 0.9459906956789875\n",
            "test: 100% 160/160 [01:00<00:00,  2.92it/s]Precision: [0.97654854 0.730542   0.78180623 0.6867031  0.75357073]\n",
            "Recall: [0.98415519 0.63337936 0.81760973 0.74555043 0.71859695]\n",
            "F1 score: [0.98033711 0.67849986 0.79930724 0.71491783 0.73566841]\n",
            "Accuracy:0.9459906956789875\n",
            "Confusion Matrix[[251430   2993    921    134]\n",
            " [  4792  14220   3237    202]\n",
            " [  1125   2144  15461    180]\n",
            " [   121    108    157   1131]]\n",
            "\n",
            "test: 100% 160/160 [01:00<00:00,  2.66it/s]\n",
            "test: 100% 7/7 [00:02<00:00,  2.84it/s]Precision: [0.98336347 0.70892626 0.79928741 0.71186441 0.75448029]\n",
            "Recall: [0.98416433 0.66024096 0.83395291 0.91304348 0.75044563]\n",
            "F1 score: [0.98376374 0.68371803 0.81625227 0.8        0.75245755]\n",
            "Accuracy:0.9532746976598084\n",
            "Confusion Matrix[[10876   142    30     3]\n",
            " [  138   548   138     6]\n",
            " [   46    80   673     8]\n",
            " [    0     3     1    42]]\n",
            "\n",
            "test: 100% 7/7 [00:02<00:00,  2.69it/s]\n",
            "test: 100% 7/7 [00:02<00:00,  2.68it/s]Precision: [0.97640329 0.56986634 0.73356401 0.5        0.64925373]\n",
            "Recall: [0.96775337 0.5877193  0.78615575 0.74285714 0.68879415]\n",
            "F1 score: [0.97205909 0.57865515 0.75894988 0.59770115 0.66843972]\n",
            "Accuracy:0.9323279195668986\n",
            "Confusion Matrix[[10924   279    76     9]\n",
            " [  178   469   149     2]\n",
            " [   83    75   636    15]\n",
            " [    3     0     6    26]]\n",
            "\n",
            "\n",
            "\n",
            "\u001b[34m\u001b[1mwandb\u001b[0m: Waiting for W&B process to finish, PID 353\n",
            "\u001b[34m\u001b[1mwandb\u001b[0m: Program ended successfully.\n",
            "\u001b[34m\u001b[1mwandb\u001b[0m:                                                                                \n",
            "\u001b[34m\u001b[1mwandb\u001b[0m: Find user logs for this run at: /content/wandb/run-20210621_063032-2jdbwz8w/logs/debug.log\n",
            "\u001b[34m\u001b[1mwandb\u001b[0m: Find internal logs for this run at: /content/wandb/run-20210621_063032-2jdbwz8w/logs/debug-internal.log\n",
            "\u001b[34m\u001b[1mwandb\u001b[0m: Run summary:\n",
            "\u001b[34m\u001b[1mwandb\u001b[0m:        epoch 9\n",
            "\u001b[34m\u001b[1mwandb\u001b[0m:   train_loss 0.1562\n",
            "\u001b[34m\u001b[1mwandb\u001b[0m:    train_acc 0.93404\n",
            "\u001b[34m\u001b[1mwandb\u001b[0m:     _runtime 6673\n",
            "\u001b[34m\u001b[1mwandb\u001b[0m:   _timestamp 1624263705\n",
            "\u001b[34m\u001b[1mwandb\u001b[0m:        _step 19\n",
            "\u001b[34m\u001b[1mwandb\u001b[0m:     val_loss 0.12905\n",
            "\u001b[34m\u001b[1mwandb\u001b[0m:      val_acc 0.94599\n",
            "\u001b[34m\u001b[1mwandb\u001b[0m: Run history:\n",
            "\u001b[34m\u001b[1mwandb\u001b[0m:        epoch ▁▁▂▂▃▃▃▃▄▄▅▅▆▆▆▆▇▇██\n",
            "\u001b[34m\u001b[1mwandb\u001b[0m:   train_loss █▃▂▂▂▂▁▁▁▁\n",
            "\u001b[34m\u001b[1mwandb\u001b[0m:    train_acc ▁▅▆▇▇▇████\n",
            "\u001b[34m\u001b[1mwandb\u001b[0m:     _runtime ▁▁▂▂▃▃▃▃▄▄▅▅▆▆▆▆▇▇██\n",
            "\u001b[34m\u001b[1mwandb\u001b[0m:   _timestamp ▁▁▂▂▃▃▃▃▄▄▅▅▆▆▆▆▇▇██\n",
            "\u001b[34m\u001b[1mwandb\u001b[0m:        _step ▁▁▂▂▂▃▃▄▄▄▅▅▅▆▆▇▇▇██\n",
            "\u001b[34m\u001b[1mwandb\u001b[0m:     val_loss █▄▃▂▂▂▁▁▁▁\n",
            "\u001b[34m\u001b[1mwandb\u001b[0m:      val_acc ▁▅▆▇▇▇████\n",
            "\u001b[34m\u001b[1mwandb\u001b[0m: \n",
            "\u001b[34m\u001b[1mwandb\u001b[0m: Synced 5 W&B file(s), 0 media file(s), 0 artifact file(s) and 0 other file(s)\n",
            "\u001b[34m\u001b[1mwandb\u001b[0m: \n",
            "\u001b[34m\u001b[1mwandb\u001b[0m: Synced \u001b[33mbert-base-uncased\u001b[0m: \u001b[34mhttps://wandb.ai/trishal-singh/Video%20to%20text/runs/2jdbwz8w\u001b[0m\n"
          ],
          "name": "stdout"
        }
      ]
    },
    {
      "cell_type": "code",
      "metadata": {
        "colab": {
          "base_uri": "https://localhost:8080/"
        },
        "id": "709KOtS_Chib",
        "outputId": "625094ac-03f0-4e6b-ac57-18428cd06ab7"
      },
      "source": [
        "!python gdrive/MyDrive/punctuation-restoration/src/train.py --cuda=True --pretrained-model=roberta-base --freeze-bert=False --lstm-dim=-1 --language=english --seed=1 --lr=5e-6 --epoch=10 --use-crf=False --augment-type=none  --augment-rate=0.15 --alpha-sub=0.4 --alpha-del=0.4 --data-path=gdrive/MyDrive/punctuation-restoration/data --save-path=gdrive/MyDrive/punctuation-restoration/out\n"
      ],
      "execution_count": null,
      "outputs": [
        {
          "output_type": "stream",
          "text": [
            "2021-06-21 10:02:03.438000: I tensorflow/stream_executor/platform/default/dso_loader.cc:53] Successfully opened dynamic library libcudart.so.11.0\n",
            "\u001b[34m\u001b[1mwandb\u001b[0m: Currently logged in as: \u001b[33mtrishal-singh\u001b[0m (use `wandb login --relogin` to force relogin)\n",
            "2021-06-21 10:02:06.766246: I tensorflow/stream_executor/platform/default/dso_loader.cc:53] Successfully opened dynamic library libcudart.so.11.0\n",
            "\u001b[34m\u001b[1mwandb\u001b[0m: Tracking run with wandb version 0.10.32\n",
            "\u001b[34m\u001b[1mwandb\u001b[0m: Syncing run \u001b[33mroberta-base\u001b[0m\n",
            "\u001b[34m\u001b[1mwandb\u001b[0m: ⭐️ View project at \u001b[34m\u001b[4mhttps://wandb.ai/trishal-singh/Video%20to%20text\u001b[0m\n",
            "\u001b[34m\u001b[1mwandb\u001b[0m: 🚀 View run at \u001b[34m\u001b[4mhttps://wandb.ai/trishal-singh/Video%20to%20text/runs/o5y5i6oq\u001b[0m\n",
            "\u001b[34m\u001b[1mwandb\u001b[0m: Run data is saved locally in /content/wandb/run-20210621_100205-o5y5i6oq\n",
            "\u001b[34m\u001b[1mwandb\u001b[0m: Run `wandb offline` to turn off syncing.\n",
            "\n",
            "train:  25% 321/1273 [02:52<08:51,  1.79it/s]Exception ignored in: <function _MultiProcessingDataLoaderIter.__del__ at 0x7fd5e7fb1680>\n",
            "Traceback (most recent call last):\n",
            "  File \"/usr/local/lib/python3.7/dist-packages/torch/utils/data/dataloader.py\", line 1328, in __del__\n",
            "    self._shutdown_workers()\n",
            "  File \"/usr/local/lib/python3.7/dist-packages/torch/utils/data/dataloader.py\", line 1301, in _shutdown_workers\n",
            "    w.join(timeout=_utils.MP_STATUS_CHECK_INTERVAL)\n",
            "  File \"/usr/lib/python3.7/multiprocessing/process.py\", line 140, in join\n",
            "    res = self._popen.wait(timeout)\n",
            "  File \"/usr/lib/python3.7/multiprocessing/popen_fork.py\", line 45, in wait\n",
            "    if not wait([self.sentinel], timeout):\n",
            "  File \"/usr/lib/python3.7/multiprocessing/connection.py\", line 921, in wait\n",
            "    ready = selector.select(timeout)\n",
            "  File \"/usr/lib/python3.7/selectors.py\", line 415, in select\n",
            "    fd_event_list = self._selector.poll(timeout)\n",
            "KeyboardInterrupt: \n",
            "Traceback (most recent call last):\n",
            "  File \"gdrive/MyDrive/punctuation-restoration/src/train.py\", line 268, in <module>\n",
            "    train()\n",
            "  File \"gdrive/MyDrive/punctuation-restoration/src/train.py\", line 227, in train\n",
            "    optimizer.step()\n",
            "  File \"/usr/local/lib/python3.7/dist-packages/torch/optim/optimizer.py\", line 88, in wrapper\n",
            "    return func(*args, **kwargs)\n",
            "  File \"/usr/local/lib/python3.7/dist-packages/torch/autograd/grad_mode.py\", line 28, in decorate_context\n",
            "    return func(*args, **kwargs)\n",
            "  File \"/usr/local/lib/python3.7/dist-packages/torch/optim/adam.py\", line 118, in step\n",
            "    eps=group['eps'])\n",
            "  File \"/usr/local/lib/python3.7/dist-packages/torch/optim/_functional.py\", line 94, in adam\n",
            "    denom = (exp_avg_sq.sqrt() / math.sqrt(bias_correction2)).add_(eps)\n",
            "KeyboardInterrupt\n",
            "train:  25% 321/1273 [02:53<08:33,  1.86it/s]\n",
            "\n",
            "\u001b[34m\u001b[1mwandb\u001b[0m: Waiting for W&B process to finish, PID 2604\n",
            "\u001b[34m\u001b[1mwandb\u001b[0m: Program failed with code 255.  Press ctrl-c to abort syncing.\n",
            "\u001b[34m\u001b[1mwandb\u001b[0m:                                                                                \n",
            "\u001b[34m\u001b[1mwandb\u001b[0m: Find user logs for this run at: /content/wandb/run-20210621_100205-o5y5i6oq/logs/debug.log\n",
            "\u001b[34m\u001b[1mwandb\u001b[0m: Find internal logs for this run at: /content/wandb/run-20210621_100205-o5y5i6oq/logs/debug-internal.log\n",
            "\u001b[34m\u001b[1mwandb\u001b[0m: Synced 5 W&B file(s), 0 media file(s), 0 artifact file(s) and 0 other file(s)\n",
            "\u001b[34m\u001b[1mwandb\u001b[0m: \n",
            "\u001b[34m\u001b[1mwandb\u001b[0m: Synced \u001b[33mroberta-base\u001b[0m: \u001b[34mhttps://wandb.ai/trishal-singh/Video%20to%20text/runs/o5y5i6oq\u001b[0m\n"
          ],
          "name": "stdout"
        }
      ]
    },
    {
      "cell_type": "code",
      "metadata": {
        "colab": {
          "base_uri": "https://localhost:8080/"
        },
        "id": "1SWAOyzMsH3c",
        "outputId": "d23e8942-c804-4460-b34f-42945980133d"
      },
      "source": [
        "!python gdrive/MyDrive/punctuation-restoration/src/train.py --cuda=True --pretrained-model=distilbert-base-uncased --freeze-bert=False --lstm-dim=-1 --language=english --seed=1 --lr=5e-6 --epoch=10 --use-crf=False --augment-type=none  --augment-rate=0.15 --alpha-sub=0.4 --alpha-del=0.4 --data-path=gdrive/MyDrive/punctuation-restoration/data --save-path=gdrive/MyDrive/punctuation-restoration/out\n"
      ],
      "execution_count": null,
      "outputs": [
        {
          "output_type": "stream",
          "text": [
            "2021-06-22 10:23:21.021098: I tensorflow/stream_executor/platform/default/dso_loader.cc:53] Successfully opened dynamic library libcudart.so.11.0\n",
            "\u001b[34m\u001b[1mwandb\u001b[0m: Currently logged in as: \u001b[33mtrishal-singh\u001b[0m (use `wandb login --relogin` to force relogin)\n",
            "2021-06-22 10:23:26.603209: I tensorflow/stream_executor/platform/default/dso_loader.cc:53] Successfully opened dynamic library libcudart.so.11.0\n",
            "\u001b[34m\u001b[1mwandb\u001b[0m: Tracking run with wandb version 0.10.32\n",
            "\u001b[34m\u001b[1mwandb\u001b[0m: Syncing run \u001b[33mdistilbert-base-uncased\u001b[0m\n",
            "\u001b[34m\u001b[1mwandb\u001b[0m: ⭐️ View project at \u001b[34m\u001b[4mhttps://wandb.ai/trishal-singh/Video%20to%20text\u001b[0m\n",
            "\u001b[34m\u001b[1mwandb\u001b[0m: 🚀 View run at \u001b[34m\u001b[4mhttps://wandb.ai/trishal-singh/Video%20to%20text/runs/15ouu1pf\u001b[0m\n",
            "\u001b[34m\u001b[1mwandb\u001b[0m: Run data is saved locally in /content/wandb/run-20210622_102325-15ouu1pf\n",
            "\u001b[34m\u001b[1mwandb\u001b[0m: Run `wandb offline` to turn off syncing.\n",
            "\n",
            "Downloading: 100% 232k/232k [00:00<00:00, 316kB/s] \n",
            "Downloading: 100% 442/442 [00:00<00:00, 334kB/s]\n",
            "Downloading: 100% 268M/268M [00:06<00:00, 38.5MB/s]\n",
            "train: 100% 1129/1129 [10:41<00:00,  1.76it/s]\n",
            "epoch: 0, Train loss: 0.2927106647126119, Train accuracy: 0.892192717743103\n",
            "eval: 100% 160/160 [00:36<00:00,  4.34it/s]\n",
            "epoch: 0, Val loss: 0.2083075487986207, Val accuracy: 0.9128926517314886\n",
            "train: 100% 1129/1129 [10:47<00:00,  1.74it/s]\n",
            "epoch: 1, Train loss: 0.19173967892401403, Train accuracy: 0.9204529752616049\n",
            "eval: 100% 160/160 [00:37<00:00,  4.28it/s]\n",
            "epoch: 1, Val loss: 0.1787477751262486, Val accuracy: 0.9256961482256096\n",
            "train: 100% 1129/1129 [10:46<00:00,  1.75it/s]\n",
            "epoch: 2, Train loss: 0.1680149839542628, Train accuracy: 0.9295467182024354\n",
            "eval: 100% 160/160 [00:36<00:00,  4.35it/s]\n",
            "epoch: 2, Val loss: 0.16587713952176272, Val accuracy: 0.9309415597474159\n",
            "train: 100% 1129/1129 [10:44<00:00,  1.75it/s]\n",
            "epoch: 3, Train loss: 0.15640618098426223, Train accuracy: 0.934188615820368\n",
            "eval: 100% 160/160 [00:36<00:00,  4.35it/s]\n",
            "epoch: 3, Val loss: 0.1612576010171324, Val accuracy: 0.9332073093887838\n",
            "train: 100% 1129/1129 [10:44<00:00,  1.75it/s]\n",
            "epoch: 4, Train loss: 0.1484195431834623, Train accuracy: 0.9373883796462009\n",
            "eval: 100% 160/160 [00:36<00:00,  4.35it/s]\n",
            "epoch: 4, Val loss: 0.1565913140773773, Val accuracy: 0.9351714059713899\n",
            "train: 100% 1129/1129 [10:44<00:00,  1.75it/s]\n",
            "epoch: 5, Train loss: 0.14200761160616118, Train accuracy: 0.9399194234860306\n",
            "eval: 100% 160/160 [00:36<00:00,  4.35it/s]\n",
            "epoch: 5, Val loss: 0.15389350848272443, Val accuracy: 0.93641488691362\n",
            "train: 100% 1129/1129 [10:44<00:00,  1.75it/s]\n",
            "epoch: 6, Train loss: 0.13627845990620852, Train accuracy: 0.942362279288214\n",
            "eval: 100% 160/160 [00:36<00:00,  4.38it/s]\n",
            "epoch: 6, Val loss: 0.15213729422539474, Val accuracy: 0.9371589644585663\n",
            "train: 100% 1129/1129 [10:49<00:00,  1.74it/s]\n",
            "epoch: 7, Train loss: 0.13165277395763683, Train accuracy: 0.944252898769093\n",
            "eval: 100% 160/160 [00:37<00:00,  4.29it/s]\n",
            "epoch: 7, Val loss: 0.1515392884146422, Val accuracy: 0.937319846089906\n",
            "train: 100% 1129/1129 [10:49<00:00,  1.74it/s]\n",
            "epoch: 8, Train loss: 0.12712028286064272, Train accuracy: 0.9460803246828885\n",
            "eval: 100% 160/160 [00:37<00:00,  4.28it/s]\n",
            "epoch: 8, Val loss: 0.1524824772030115, Val accuracy: 0.937205888267707\n",
            "train: 100% 1129/1129 [10:49<00:00,  1.74it/s]\n",
            "epoch: 9, Train loss: 0.12308675109469014, Train accuracy: 0.94793981897401\n",
            "eval: 100% 160/160 [00:37<00:00,  4.28it/s]\n",
            "epoch: 9, Val loss: 0.1518540750257671, Val accuracy: 0.9384426658086313\n",
            "Best validation Acc: 0.9384426658086313\n",
            "test: 100% 160/160 [01:29<00:00,  1.78it/s]\n",
            "Precision: [0.9733803  0.67833042 0.75847458 0.68956044 0.71648964]\n",
            "Recall: [0.98214719 0.60442742 0.76673718 0.66183256 0.67804002]\n",
            "F1 score: [0.97774409 0.63925005 0.7625835  0.67541204 0.69673477]\n",
            "Accuracy:0.9384426658086313\n",
            "Confusion Matrix[[250917   3394   1042    125]\n",
            " [  5300  13570   3384    197]\n",
            " [  1403   2878  14499    130]\n",
            " [   159    163    191   1004]]\n",
            "\n",
            "test: 100% 7/7 [00:03<00:00,  1.78it/s]\n",
            "Precision: [0.98110991 0.64925373 0.76572133 0.61818182 0.70479042]\n",
            "Recall: [0.98226405 0.62891566 0.76951673 0.73913043 0.69934641]\n",
            "F1 score: [0.98168664 0.63892289 0.76761434 0.67326733 0.70205786]\n",
            "Accuracy:0.9448719962305638\n",
            "Confusion Matrix[[10855   151    36     9]\n",
            " [  152   522   150     6]\n",
            " [   54   126   621     6]\n",
            " [    3     5     4    34]]\n",
            "\n",
            "test: 100% 7/7 [00:03<00:00,  1.77it/s]Precision: [0.97702813 0.48090815 0.69239766 0.44897959 0.57661506]\n",
            "Recall: [0.95703402 0.5839599  0.73176761 0.62857143 0.65773447]\n",
            "F1 score: [0.96692772 0.52744765 0.71153846 0.52380952 0.61450925]\n",
            "Accuracy:0.9190255220417634\n",
            "Confusion Matrix[[10803   374    99    12]\n",
            " [  173   466   156     3]\n",
            " [   79   126   592    12]\n",
            " [    2     3     8    22]]\n",
            "\n",
            "\n",
            "\n",
            "\u001b[34m\u001b[1mwandb\u001b[0m: Waiting for W&B process to finish, PID 348\n",
            "\u001b[34m\u001b[1mwandb\u001b[0m: Program ended successfully.\n",
            "\u001b[34m\u001b[1mwandb\u001b[0m:                                                                                \n",
            "\u001b[34m\u001b[1mwandb\u001b[0m: Find user logs for this run at: /content/wandb/run-20210622_102325-15ouu1pf/logs/debug.log\n",
            "\u001b[34m\u001b[1mwandb\u001b[0m: Find internal logs for this run at: /content/wandb/run-20210622_102325-15ouu1pf/logs/debug-internal.log\n",
            "\u001b[34m\u001b[1mwandb\u001b[0m: Run summary:\n",
            "\u001b[34m\u001b[1mwandb\u001b[0m:        epoch 9\n",
            "\u001b[34m\u001b[1mwandb\u001b[0m:   train_loss 0.12309\n",
            "\u001b[34m\u001b[1mwandb\u001b[0m:    train_acc 0.94794\n",
            "\u001b[34m\u001b[1mwandb\u001b[0m:     _runtime 7032\n",
            "\u001b[34m\u001b[1mwandb\u001b[0m:   _timestamp 1624364437\n",
            "\u001b[34m\u001b[1mwandb\u001b[0m:        _step 19\n",
            "\u001b[34m\u001b[1mwandb\u001b[0m:     val_loss 0.15185\n",
            "\u001b[34m\u001b[1mwandb\u001b[0m:      val_acc 0.93844\n",
            "\u001b[34m\u001b[1mwandb\u001b[0m: Run history:\n",
            "\u001b[34m\u001b[1mwandb\u001b[0m:        epoch ▁▁▂▂▃▃▃▃▄▄▅▅▆▆▆▆▇▇██\n",
            "\u001b[34m\u001b[1mwandb\u001b[0m:   train_loss █▄▃▂▂▂▂▁▁▁\n",
            "\u001b[34m\u001b[1mwandb\u001b[0m:    train_acc ▁▅▆▆▇▇▇███\n",
            "\u001b[34m\u001b[1mwandb\u001b[0m:     _runtime ▁▁▂▂▃▃▃▃▄▄▅▅▆▆▆▆▇▇██\n",
            "\u001b[34m\u001b[1mwandb\u001b[0m:   _timestamp ▁▁▂▂▃▃▃▃▄▄▅▅▆▆▆▆▇▇██\n",
            "\u001b[34m\u001b[1mwandb\u001b[0m:        _step ▁▁▂▂▂▃▃▄▄▄▅▅▅▆▆▇▇▇██\n",
            "\u001b[34m\u001b[1mwandb\u001b[0m:     val_loss █▄▃▂▂▁▁▁▁▁\n",
            "\u001b[34m\u001b[1mwandb\u001b[0m:      val_acc ▁▅▆▇▇▇████\n",
            "\u001b[34m\u001b[1mwandb\u001b[0m: \n",
            "\u001b[34m\u001b[1mwandb\u001b[0m: Synced 5 W&B file(s), 0 media file(s), 0 artifact file(s) and 0 other file(s)\n",
            "\u001b[34m\u001b[1mwandb\u001b[0m: \n",
            "\u001b[34m\u001b[1mwandb\u001b[0m: Synced \u001b[33mdistilbert-base-uncased\u001b[0m: \u001b[34mhttps://wandb.ai/trishal-singh/Video%20to%20text/runs/15ouu1pf\u001b[0m\n"
          ],
          "name": "stdout"
        }
      ]
    },
    {
      "cell_type": "code",
      "metadata": {
        "id": "6p_pDZH4Eold",
        "colab": {
          "base_uri": "https://localhost:8080/"
        },
        "outputId": "50cb49c2-f087-4fa5-cfb2-17ddcc537672"
      },
      "source": [
        "!python gdrive/MyDrive/punctuation-restoration/src/train.py --cuda=True --pretrained-model=distilbert-base-multilingual-cased --freeze-bert=False --lstm-dim=-1 --language=english --seed=1 --lr=5e-6 --epoch=10 --use-crf=False --augment-type=none  --augment-rate=0.15 --alpha-sub=0.4 --alpha-del=0.4 --data-path=gdrive/MyDrive/punctuation-restoration/data --save-path=gdrive/MyDrive/punctuation-restoration/out\n"
      ],
      "execution_count": null,
      "outputs": [
        {
          "output_type": "stream",
          "text": [
            "2021-06-23 11:03:08.983913: I tensorflow/stream_executor/platform/default/dso_loader.cc:53] Successfully opened dynamic library libcudart.so.11.0\n",
            "\u001b[34m\u001b[1mwandb\u001b[0m: Currently logged in as: \u001b[33mtrishal-singh\u001b[0m (use `wandb login --relogin` to force relogin)\n",
            "2021-06-23 11:03:12.951227: I tensorflow/stream_executor/platform/default/dso_loader.cc:53] Successfully opened dynamic library libcudart.so.11.0\n",
            "\u001b[34m\u001b[1mwandb\u001b[0m: Tracking run with wandb version 0.10.32\n",
            "\u001b[34m\u001b[1mwandb\u001b[0m: Syncing run \u001b[33mdistilbert-base-multilingual-cased\u001b[0m\n",
            "\u001b[34m\u001b[1mwandb\u001b[0m: ⭐️ View project at \u001b[34m\u001b[4mhttps://wandb.ai/trishal-singh/Video%20to%20text\u001b[0m\n",
            "\u001b[34m\u001b[1mwandb\u001b[0m: 🚀 View run at \u001b[34m\u001b[4mhttps://wandb.ai/trishal-singh/Video%20to%20text/runs/3fnnv7y2\u001b[0m\n",
            "\u001b[34m\u001b[1mwandb\u001b[0m: Run data is saved locally in /content/wandb/run-20210623_110311-3fnnv7y2\n",
            "\u001b[34m\u001b[1mwandb\u001b[0m: Run `wandb offline` to turn off syncing.\n",
            "\n",
            "Downloading: 100% 996k/996k [00:00<00:00, 2.69MB/s]\n",
            "Downloading: 100% 466/466 [00:00<00:00, 371kB/s]\n",
            "Downloading: 100% 542M/542M [00:12<00:00, 41.9MB/s]\n",
            "train: 100% 1220/1220 [06:39<00:00,  3.05it/s]\n",
            "epoch: 0, Train loss: 0.2913974054157734, Train accuracy: 0.887046492941584\n",
            "eval: 100% 173/173 [00:18<00:00,  9.21it/s]\n",
            "epoch: 0, Val loss: 0.20608165007450677, Val accuracy: 0.9075227759914255\n",
            "train: 100% 1220/1220 [06:45<00:00,  3.01it/s]\n",
            "epoch: 1, Train loss: 0.19334289835857563, Train accuracy: 0.9137254439933362\n",
            "eval: 100% 173/173 [00:18<00:00,  9.23it/s]\n",
            "epoch: 1, Val loss: 0.18123836289940543, Val accuracy: 0.9188638799571276\n",
            "train: 100% 1220/1220 [06:45<00:00,  3.01it/s]\n",
            "epoch: 2, Train loss: 0.17250303762858032, Train accuracy: 0.9225155341704624\n",
            "eval: 100% 173/173 [00:18<00:00,  9.22it/s]\n",
            "epoch: 2, Val loss: 0.16820070160434425, Val accuracy: 0.9240286709539121\n",
            "train: 100% 1220/1220 [06:46<00:00,  3.00it/s]\n",
            "epoch: 3, Train loss: 0.16132120110827392, Train accuracy: 0.9272541336091822\n",
            "eval: 100% 173/173 [00:18<00:00,  9.23it/s]\n",
            "epoch: 3, Val loss: 0.1632111329219245, Val accuracy: 0.9266144158628081\n",
            "train: 100% 1220/1220 [06:45<00:00,  3.01it/s]\n",
            "epoch: 4, Train loss: 0.15341358129851154, Train accuracy: 0.9305228482493573\n",
            "eval: 100% 173/173 [00:18<00:00,  9.24it/s]\n",
            "epoch: 4, Val loss: 0.15887980352591918, Val accuracy: 0.9287010986066452\n",
            "train: 100% 1220/1220 [06:45<00:00,  3.01it/s]\n",
            "epoch: 5, Train loss: 0.14738213764350921, Train accuracy: 0.9332821222139227\n",
            "eval: 100% 173/173 [00:18<00:00,  9.24it/s]\n",
            "epoch: 5, Val loss: 0.15530890583819737, Val accuracy: 0.929997320471597\n",
            "train: 100% 1220/1220 [06:46<00:00,  3.00it/s]\n",
            "epoch: 6, Train loss: 0.1416654803530603, Train accuracy: 0.935644588547717\n",
            "eval: 100% 173/173 [00:18<00:00,  9.20it/s]\n",
            "epoch: 6, Val loss: 0.15446453886052777, Val accuracy: 0.9308815648445874\n",
            "train: 100% 1220/1220 [06:46<00:00,  3.00it/s]\n",
            "epoch: 7, Train loss: 0.13719688533637367, Train accuracy: 0.9375871551202086\n",
            "eval: 100% 173/173 [00:18<00:00,  9.24it/s]\n",
            "epoch: 7, Val loss: 0.15267995370261242, Val accuracy: 0.931775857449089\n",
            "train: 100% 1220/1220 [06:46<00:00,  3.00it/s]\n",
            "epoch: 8, Train loss: 0.13272608237676933, Train accuracy: 0.9395424459278913\n",
            "eval: 100% 173/173 [00:18<00:00,  9.24it/s]\n",
            "epoch: 8, Val loss: 0.1513954942798339, Val accuracy: 0.9319031350482315\n",
            "train: 100% 1220/1220 [06:45<00:00,  3.01it/s]\n",
            "epoch: 9, Train loss: 0.12879170474336774, Train accuracy: 0.9412130908816717\n",
            "eval: 100% 173/173 [00:18<00:00,  9.24it/s]\n",
            "epoch: 9, Val loss: 0.1513588835049227, Val accuracy: 0.9329581993569132\n",
            "Best validation Acc: 0.9329581993569132\n",
            "test: 100% 173/173 [00:50<00:00,  3.42it/s]\n",
            "Precision: [0.96942143 0.67973561 0.71357857 0.63981043 0.69578222]\n",
            "Recall: [0.98115237 0.53592268 0.777578   0.62294001 0.64557582]\n",
            "F1 score: [0.97525162 0.59932257 0.74420488 0.63126253 0.66973942]\n",
            "Accuracy:0.9329581993569132\n",
            "Confusion Matrix[[250863   3140   1521    158]\n",
            " [  6032  12032   4163    224]\n",
            " [  1685   2371  14704    150]\n",
            " [   196    158    218    945]]\n",
            "\n",
            "test:  88% 7/8 [00:02<00:00,  3.48it/s]Precision: [0.97575431 0.67322239 0.72240803 0.66666667 0.70049813]\n",
            "Recall: [0.98254815 0.53614458 0.80297398 0.69565217 0.6684492 ]\n",
            "F1 score: [0.97913945 0.59691482 0.76056338 0.68085106 0.68409851]\n",
            "Accuracy:0.9410610579186941\n",
            "Confusion Matrix[[10866   134    56     3]\n",
            " [  189   445   188     8]\n",
            " [   76    78   648     5]\n",
            " [    5     4     5    32]]\n",
            "\n",
            "test: 100% 8/8 [00:02<00:00,  3.71it/s]\n",
            "test:  88% 7/8 [00:02<00:00,  3.36it/s]Precision: [0.97143113 0.48964677 0.66300768 0.475      0.57844244]\n",
            "Recall: [0.96025142 0.5037594  0.74660074 0.54285714 0.62423873]\n",
            "F1 score: [0.96580892 0.49660284 0.70232558 0.50666667 0.60046866]\n",
            "Accuracy:0.9176070490029371\n",
            "Confusion Matrix[[10847   319   122     8]\n",
            " [  215   402   178     3]\n",
            " [  100    95   604    10]\n",
            " [    4     5     7    19]]\n",
            "\n",
            "test: 100% 8/8 [00:02<00:00,  3.60it/s]\n",
            "\n",
            "\u001b[34m\u001b[1mwandb\u001b[0m: Waiting for W&B process to finish, PID 362\n",
            "\u001b[34m\u001b[1mwandb\u001b[0m: Program ended successfully.\n",
            "\u001b[34m\u001b[1mwandb\u001b[0m:                                                                                \n",
            "\u001b[34m\u001b[1mwandb\u001b[0m: Find user logs for this run at: /content/wandb/run-20210623_110311-3fnnv7y2/logs/debug.log\n",
            "\u001b[34m\u001b[1mwandb\u001b[0m: Find internal logs for this run at: /content/wandb/run-20210623_110311-3fnnv7y2/logs/debug-internal.log\n",
            "\u001b[34m\u001b[1mwandb\u001b[0m: Run summary:\n",
            "\u001b[34m\u001b[1mwandb\u001b[0m:        epoch 9\n",
            "\u001b[34m\u001b[1mwandb\u001b[0m:   train_loss 0.12879\n",
            "\u001b[34m\u001b[1mwandb\u001b[0m:    train_acc 0.94121\n",
            "\u001b[34m\u001b[1mwandb\u001b[0m:     _runtime 4398\n",
            "\u001b[34m\u001b[1mwandb\u001b[0m:   _timestamp 1624450589\n",
            "\u001b[34m\u001b[1mwandb\u001b[0m:        _step 19\n",
            "\u001b[34m\u001b[1mwandb\u001b[0m:     val_loss 0.15136\n",
            "\u001b[34m\u001b[1mwandb\u001b[0m:      val_acc 0.93296\n",
            "\u001b[34m\u001b[1mwandb\u001b[0m: Run history:\n",
            "\u001b[34m\u001b[1mwandb\u001b[0m:        epoch ▁▁▂▂▃▃▃▃▄▄▅▅▆▆▆▆▇▇██\n",
            "\u001b[34m\u001b[1mwandb\u001b[0m:   train_loss █▄▃▂▂▂▂▁▁▁\n",
            "\u001b[34m\u001b[1mwandb\u001b[0m:    train_acc ▁▄▆▆▇▇▇███\n",
            "\u001b[34m\u001b[1mwandb\u001b[0m:     _runtime ▁▁▂▂▃▃▃▃▄▄▅▅▆▆▆▆▇▇██\n",
            "\u001b[34m\u001b[1mwandb\u001b[0m:   _timestamp ▁▁▂▂▃▃▃▃▄▄▅▅▆▆▆▆▇▇██\n",
            "\u001b[34m\u001b[1mwandb\u001b[0m:        _step ▁▁▂▂▂▃▃▄▄▄▅▅▅▆▆▇▇▇██\n",
            "\u001b[34m\u001b[1mwandb\u001b[0m:     val_loss █▅▃▃▂▂▁▁▁▁\n",
            "\u001b[34m\u001b[1mwandb\u001b[0m:      val_acc ▁▄▆▆▇▇▇███\n",
            "\u001b[34m\u001b[1mwandb\u001b[0m: \n",
            "\u001b[34m\u001b[1mwandb\u001b[0m: Synced 5 W&B file(s), 0 media file(s), 0 artifact file(s) and 0 other file(s)\n",
            "\u001b[34m\u001b[1mwandb\u001b[0m: \n",
            "\u001b[34m\u001b[1mwandb\u001b[0m: Synced \u001b[33mdistilbert-base-multilingual-cased\u001b[0m: \u001b[34mhttps://wandb.ai/trishal-singh/Video%20to%20text/runs/3fnnv7y2\u001b[0m\n"
          ],
          "name": "stdout"
        }
      ]
    },
    {
      "cell_type": "code",
      "metadata": {
        "id": "HuOkc16oiaNp",
        "colab": {
          "base_uri": "https://localhost:8080/"
        },
        "outputId": "7accda11-ccb4-4cca-b2a4-0a9b801a2358"
      },
      "source": [
        "!python gdrive/MyDrive/punctuation-restoration/src/train.py --cuda=True --pretrained-model=roberta-large --freeze-bert=False --lstm-dim=-1 --language=english --seed=1 --lr=5e-6 --epoch=10 --use-crf=False --augment-type=all  --augment-rate=0.15 --alpha-sub=0.4 --alpha-del=0.4 --data-path=gdrive/MyDrive/punctuation-restoration/data --save-path=gdrive/MyDrive/punctuation-restoration/out\n"
      ],
      "execution_count": null,
      "outputs": [
        {
          "output_type": "stream",
          "text": [
            "2021-06-23 14:11:59.260956: I tensorflow/stream_executor/platform/default/dso_loader.cc:53] Successfully opened dynamic library libcudart.so.11.0\n",
            "\u001b[34m\u001b[1mwandb\u001b[0m: Currently logged in as: \u001b[33mtrishal-singh\u001b[0m (use `wandb login --relogin` to force relogin)\n",
            "2021-06-23 14:12:02.804855: I tensorflow/stream_executor/platform/default/dso_loader.cc:53] Successfully opened dynamic library libcudart.so.11.0\n",
            "\u001b[34m\u001b[1mwandb\u001b[0m: Tracking run with wandb version 0.10.32\n",
            "\u001b[34m\u001b[1mwandb\u001b[0m: Syncing run \u001b[33mroberta-large\u001b[0m\n",
            "\u001b[34m\u001b[1mwandb\u001b[0m: ⭐️ View project at \u001b[34m\u001b[4mhttps://wandb.ai/trishal-singh/Video%20to%20text\u001b[0m\n",
            "\u001b[34m\u001b[1mwandb\u001b[0m: 🚀 View run at \u001b[34m\u001b[4mhttps://wandb.ai/trishal-singh/Video%20to%20text/runs/21o47mj1\u001b[0m\n",
            "\u001b[34m\u001b[1mwandb\u001b[0m: Run data is saved locally in /content/wandb/run-20210623_141201-21o47mj1\n",
            "\u001b[34m\u001b[1mwandb\u001b[0m: Run `wandb offline` to turn off syncing.\n",
            "\n",
            "Downloading: 100% 899k/899k [00:00<00:00, 28.5MB/s]\n",
            "Downloading: 100% 456k/456k [00:00<00:00, 17.7MB/s]\n",
            "Downloading: 100% 482/482 [00:00<00:00, 472kB/s]\n",
            "Downloading: 100% 1.43G/1.43G [00:25<00:00, 55.1MB/s]\n",
            "train: 100% 1273/1273 [34:23<00:00,  1.62s/it]\n",
            "epoch: 0, Train loss: 0.22009935508608724, Train accuracy: 0.9074041643328591\n",
            "eval: 100% 180/180 [01:39<00:00,  1.80it/s]\n",
            "epoch: 0, Val loss: 0.11372768883075979, Val accuracy: 0.9490682148429391\n",
            "train: 100% 1273/1273 [34:25<00:00,  1.62s/it]\n",
            "epoch: 1, Train loss: 0.14146883465577934, Train accuracy: 0.9358882768554397\n",
            "eval: 100% 180/180 [01:39<00:00,  1.81it/s]\n",
            "epoch: 1, Val loss: 0.10335605086551772, Val accuracy: 0.9527679007881503\n",
            "train: 100% 1273/1273 [34:26<00:00,  1.62s/it]\n",
            "epoch: 2, Train loss: 0.13157599426963998, Train accuracy: 0.9397943498310855\n",
            "eval: 100% 180/180 [01:39<00:00,  1.81it/s]\n",
            "epoch: 2, Val loss: 0.09993992083602482, Val accuracy: 0.9540535835057621\n",
            "train:   2% 24/1273 [00:39<34:31,  1.66s/it]"
          ],
          "name": "stdout"
        }
      ]
    },
    {
      "cell_type": "code",
      "metadata": {
        "id": "S_AiGgUnNoY9"
      },
      "source": [
        ""
      ],
      "execution_count": null,
      "outputs": []
    }
  ]
}